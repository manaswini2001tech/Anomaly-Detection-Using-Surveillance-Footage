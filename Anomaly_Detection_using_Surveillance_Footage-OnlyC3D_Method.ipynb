{
 "cells": [
  {
   "cell_type": "markdown",
   "metadata": {
    "colab_type": "text",
    "id": "view-in-github"
   },
   "source": [
    "<a href=\"https://colab.research.google.com/github/dineshssdn-867/CSE541_Computer_Vision_2022_5/blob/master/code/Anomaly_Detection.ipynb\" target=\"_parent\"><img src=\"https://colab.research.google.com/assets/colab-badge.svg\" alt=\"Open In Colab\"/></a>"
   ]
  },
  {
   "cell_type": "markdown",
   "metadata": {
    "id": "Rlx1qkQfWzRg"
   },
   "source": [
    "# Import Libraries and config files"
   ]
  },
  {
   "cell_type": "code",
   "execution_count": 1,
   "metadata": {
    "colab": {
     "base_uri": "https://localhost:8080/"
    },
    "id": "L6cWDAwOgob_",
    "outputId": "dc3d6cd0-a716-41e1-b9d6-600f4185ca4e"
   },
   "outputs": [],
   "source": [
    "# !pip install scipy==1.1.0"
   ]
  },
  {
   "cell_type": "code",
   "execution_count": 2,
   "metadata": {},
   "outputs": [
    {
     "data": {
      "text/plain": [
       "'3.6.10'"
      ]
     },
     "execution_count": 2,
     "metadata": {},
     "output_type": "execute_result"
    }
   ],
   "source": [
    "import platform\n",
    "platform.python_version()"
   ]
  },
  {
   "cell_type": "code",
   "execution_count": 3,
   "metadata": {},
   "outputs": [],
   "source": [
    "# !pip install tensorflow==2.1\n",
    "# !pip install keras==2.3.1"
   ]
  },
  {
   "cell_type": "code",
   "execution_count": 4,
   "metadata": {
    "id": "uY4XWwKFWvDI",
    "scrolled": false
   },
   "outputs": [],
   "source": [
    "import cv2\n",
    "import scipy.io\n",
    "import os\n",
    "import gc\n",
    "import sklearn.preprocessing\n",
    "import matplotlib\n",
    "import tensorflow\n",
    "import keras.optimizers\n",
    "import warnings\n",
    "import scipy.io as sio\n",
    "import tensorflow as tf\n",
    "import matplotlib.pyplot as plt\n",
    "import tensorflow_hub as hub\n",
    "import numpy as np\n",
    "import networkx as nx\n",
    "import pandas as pd\n",
    "from matplotlib.animation import FuncAnimation, PillowWriter \n",
    "from keras import backend as K\n",
    "from keras.models import Sequential\n",
    "from keras.regularizers import l2\n",
    "from keras.models import Model\n",
    "from keras.layers.core import Dense, Dropout, Flatten\n",
    "from keras.layers.convolutional import Conv3D, MaxPooling3D, ZeroPadding3D, AveragePooling3D \n",
    "from tensorflow.keras.layers import BatchNormalization, Activation, Input\n",
    "from tensorflow.keras import layers\n",
    "from PIL import Image\n",
    "# from scipy.misc import imresize\n",
    "from keras.models import model_from_json\n",
    "from datetime import datetime\n",
    "from keras.utils.data_utils import get_file\n",
    "from keras.utils.layer_utils import get_source_inputs\n",
    "from keras.utils import layer_utils\n",
    "import matplotlib.pyplot as plt\n",
    "matplotlib.use('Agg')\n",
    "%matplotlib inline"
   ]
  },
  {
   "cell_type": "code",
   "execution_count": 5,
   "metadata": {
    "id": "neu6BXJwA6WG"
   },
   "outputs": [],
   "source": [
    "from keras import layers\n",
    "from keras.layers import Activation\n",
    "from keras.layers import Dense\n",
    "from keras.layers import Input\n",
    "from keras.layers import BatchNormalization\n",
    "from keras.layers import Conv3D\n",
    "from keras.layers import MaxPooling3D\n",
    "from keras.layers import AveragePooling3D\n",
    "from keras.layers import Dropout\n",
    "from keras.layers import Reshape\n",
    "from keras.layers import Lambda\n",
    "from keras.layers import GlobalAveragePooling3D"
   ]
  },
  {
   "cell_type": "code",
   "execution_count": 6,
   "metadata": {
    "id": "2CQgeb90Xijg"
   },
   "outputs": [],
   "source": [
    "C3D_MEAN_PATH = 'https://github.com/adamcasson/c3d/releases/download/v0.1/c3d_mean.npy'"
   ]
  },
  {
   "cell_type": "markdown",
   "metadata": {
    "id": "BOTjHUZQY_Ze"
   },
   "source": [
    "## Parameters"
   ]
  },
  {
   "cell_type": "code",
   "execution_count": 9,
   "metadata": {
    "id": "TfmFHfAlYToJ"
   },
   "outputs": [],
   "source": [
    "c3d_model_weights = 'E:/LY Project/C3D_Sport1M_weights_keras_2.2.4.h5'\n",
    "abnormal_videos_path=\"E:/LY Project/Anomaly Videos\"\n",
    "normal_videos_path=\"E:/LY Project/Training-Normal-Videos-Part-2\"\n",
    "raw_normal_train_features_c3d=\"E:/LY Project/Raw Normal videos features C3d\"\n",
    "raw_abnormal_train_features_c3d=\"E:/LY Project/Raw Anomaly videos features C3d\"\n",
    "processed_normal_train_features_c3d=\"E:/LY Project/Pre-processed Normal Video features C3d\"\n",
    "processed_abnormal_train_features_c3d=\"E:/LY Project/Pre-processed Anomaly video features C3d\"\n",
    "\n",
    "output_dir = \"E:/LY Project/Trained_models/\"\n",
    "output_folder_c3d = 'E:/LY Project/output_videos'\n"
   ]
  },
  {
   "cell_type": "code",
   "execution_count": 11,
   "metadata": {
    "id": "3_Q2mN44Yb6T"
   },
   "outputs": [],
   "source": [
    "frame_height = 240\n",
    "frame_width = 320\n",
    "channels = 3\n",
    "\n",
    "c3d_frame_count = 16"
   ]
  },
  {
   "cell_type": "code",
   "execution_count": 12,
   "metadata": {
    "id": "QP-zhH9HGhn4"
   },
   "outputs": [],
   "source": [
    "features_per_bag = 32"
   ]
  },
  {
   "cell_type": "markdown",
   "metadata": {
    "id": "h0d-SfyjooKD"
   },
   "source": [
    "## Chunks work"
   ]
  },
  {
   "cell_type": "code",
   "execution_count": 13,
   "metadata": {
    "id": "EQrbeOpDof_R"
   },
   "outputs": [],
   "source": [
    "def divide_chunks(l, n):\n",
    "    \"\"\"Apply divide_chunks to an array, getting chunks of\n",
    "    of specified size\n",
    "    \"\"\"\n",
    "    for i in range(0, len(l), n): \n",
    "        yield l[i:i + n]"
   ]
  },
  {
   "cell_type": "markdown",
   "metadata": {
    "id": "uUHtf1rrY83b"
   },
   "source": [
    "## Array Util"
   ]
  },
  {
   "cell_type": "code",
   "execution_count": 14,
   "metadata": {
    "id": "qoMmbjroYnQ5"
   },
   "outputs": [],
   "source": [
    "def sliding_window(arr, size, stride):\n",
    "    \"\"\"Apply sliding window to an array, getting chunks of\n",
    "    of specified size using the specified stride\n",
    "    :param arr: Array to be divided\n",
    "    :param size: Size of the chunks\n",
    "    :param stride: Number of frames to skip for the next chunk\n",
    "    :returns: Tensor with the resulting chunks\n",
    "    :rtype: np.ndarray\n",
    "    \"\"\"\n",
    "    num_chunks = int((len(arr) - size) / stride) + 2\n",
    "    result = []\n",
    "    for i in range(0,  num_chunks * stride, stride):\n",
    "        if len(arr[i:i + size]) > 0:\n",
    "            result.append(arr[i:i + size])\n",
    "    return np.array(result)\n",
    "\n",
    "\n",
    "def interpolate(features, features_per_bag):\n",
    "    \"\"\"Transform a bag with an arbitrary number of features into a bag\n",
    "    with a fixed amount, using interpolation of consecutive features\n",
    "    :param features: Bag of features to pad\n",
    "    :param features_per_bag: Number of features to obtain\n",
    "    :returns: Interpolated features\n",
    "    :rtype: np.ndarray\n",
    "    \"\"\"\n",
    "#     feature_size = np.array(features).shape[0]\n",
    "    feature_size = np.array(features).shape[1]\n",
    "    interpolated_features = np.zeros((features_per_bag, feature_size))\n",
    "    interpolation_indices = np.round(np.linspace(0, len(features) - 1, num=features_per_bag + 1))\n",
    "    count = 0\n",
    "    for index in range(0, len(interpolation_indices)-1):\n",
    "        start = int(interpolation_indices[index])\n",
    "        end = int(interpolation_indices[index + 1])\n",
    "\n",
    "        assert end >= start\n",
    "\n",
    "        if start == end:\n",
    "            temp_vect = features[start, :]\n",
    "        else:\n",
    "            temp_vect = np.mean(features[start:end+1, :], axis=0)\n",
    "\n",
    "        temp_vect = temp_vect / np.linalg.norm(temp_vect)\n",
    "\n",
    "        if np.linalg.norm(temp_vect) == 0:\n",
    "            print(\"Error\")\n",
    "\n",
    "        interpolated_features[count,:]=temp_vect\n",
    "        count = count + 1\n",
    "    del interpolation_indices\n",
    "    gc.collect(generation=2)\n",
    "    return np.array(interpolated_features)\n",
    "\n",
    "\n",
    "def extrapolate(outputs, num_frames):\n",
    "    \"\"\"Expand output to match the video length\n",
    "    :param outputs: Array of predicted outputs\n",
    "    :param num_frames: Expected size of the output array\n",
    "    :returns: Array of output size\n",
    "    :rtype: np.ndarray\n",
    "    \"\"\"\n",
    "\n",
    "    extrapolated_outputs = []\n",
    "    extrapolation_indices = np.round(np.linspace(0, len(outputs) - 1, num=num_frames))\n",
    "    for index in extrapolation_indices:\n",
    "        extrapolated_outputs.append(outputs[int(index)])\n",
    "    del extrapolation_indices\n",
    "    gc.collect(generation=2)\n",
    "    return np.array(extrapolated_outputs)"
   ]
  },
  {
   "cell_type": "markdown",
   "metadata": {
    "id": "4slLmqd_ZFej"
   },
   "source": [
    "# Video Util"
   ]
  },
  {
   "cell_type": "code",
   "execution_count": 15,
   "metadata": {
    "id": "abpVcpA1Y6aT"
   },
   "outputs": [],
   "source": [
    "def get_video_clips(video_path, frame_count):\n",
    "    \"\"\"Divides the input video into non-overlapping clips\n",
    "    :param video_path: Path to the video\n",
    "    :returns: Array with the fragments of video\n",
    "    :rtype: np.ndarray\n",
    "    \"\"\"\n",
    "    frames = get_video_frames(video_path)\n",
    "    clips = sliding_window(frames, frame_count, frame_count)\n",
    "    return clips, len(frames)"
   ]
  },
  {
   "cell_type": "code",
   "execution_count": 16,
   "metadata": {
    "id": "T-zPMiagG26K"
   },
   "outputs": [],
   "source": [
    "def get_video_frames(video_path):\n",
    "    \"\"\"Reads the video given a file path\n",
    "    :param video_path: Path to the video\n",
    "    :returns: Video as an array of frames\n",
    "    :rtype: np.ndarray\n",
    "    \"\"\"\n",
    "    cap = cv2.VideoCapture(video_path)\n",
    "    frames = []\n",
    "    while (cap.isOpened()):\n",
    "        ret, frame = cap.read()\n",
    "        if ret == True:\n",
    "            frames.append(cv2.cvtColor(frame, cv2.COLOR_BGR2RGB))\n",
    "            del frame\n",
    "        else:\n",
    "            break\n",
    "    cap.release()\n",
    "    del cap\n",
    "    gc.collect(generation=2)\n",
    "    return frames"
   ]
  },
  {
   "cell_type": "markdown",
   "metadata": {
    "id": "91Whhz7wYjv4"
   },
   "source": [
    "# Video pre-processing C3d\n",
    "\n",
    "---\n",
    "\n"
   ]
  },
  {
   "cell_type": "code",
   "execution_count": 17,
   "metadata": {
    "id": "POQ5Ob3HYme8"
   },
   "outputs": [],
   "source": [
    "def preprocess_input_c3d(video):\n",
    "    \"\"\"Preprocess video input to make it suitable for feature extraction.\n",
    "    The video is resized, cropped, resampled and training mean is substracted\n",
    "    to make it suitable for the network\n",
    "    :param video: Video to be processed\n",
    "    :returns: Preprocessed video\n",
    "    :rtype: np.ndarray\n",
    "    \"\"\"\n",
    "\n",
    "    intervals = np.ceil(np.linspace(0, video.shape[0] - 1, 16)).astype(int)\n",
    "    frames = video[intervals]\n",
    "\n",
    "    # Reshape to 128x171\n",
    "    reshape_frames = np.zeros((frames.shape[0], 128, 171, frames.shape[3]))\n",
    "    for i, img in enumerate(frames):\n",
    "#         heatmap = imresize(heatmap, input_dims, interp='bicubic', mode='F')\n",
    "# heatmap = np.array(Image.fromarray(obj=heatmap, mode='F').resize(size=input_dims, resample=Image.BICUBIC))\n",
    "# img = np.array(Image.fromarray(obj=img).resize(size=(128, 171), resample =Image.BICUBIC))\n",
    "#         img = imresize(img, (128, 171), 'bicubic')\n",
    "        img = np.array(Image.fromarray(obj=img).resize(size=(171, 128), resample =Image.BICUBIC))\n",
    "        reshape_frames[i, :, :, :] = img\n",
    "        del img\n",
    "\n",
    "    mean_path = get_file('c3d_mean.npy',\n",
    "                         C3D_MEAN_PATH,\n",
    "                         cache_subdir='models',\n",
    "                         md5_hash='08a07d9761e76097985124d9e8b2fe34')\n",
    "\n",
    "    mean = np.load(mean_path)\n",
    "    reshape_frames -= mean\n",
    "    # Crop to 112x112\n",
    "    reshape_frames = reshape_frames[:, 8:120, 30:142, :]\n",
    "    # Add extra dimension for samples\n",
    "    reshape_frames = np.expand_dims(reshape_frames, axis=0)\n",
    "    del intervals\n",
    "    del frames\n",
    "    gc.collect(generation=2)\n",
    "    return reshape_frames"
   ]
  },
  {
   "cell_type": "markdown",
   "metadata": {
    "id": "B0zyF-v_CZCg"
   },
   "source": [
    "# Segment Utils"
   ]
  },
  {
   "cell_type": "code",
   "execution_count": 19,
   "metadata": {
    "id": "VCvamAy-hmlf"
   },
   "outputs": [],
   "source": [
    "def transform_into_segments(features, n_segments=32):\n",
    "    \"\"\"This will convert the vector \n",
    "    into 32 segments of feature vectors\"\"\"\n",
    "    if features.shape[0] < n_segments:\n",
    "        raise RuntimeError(\n",
    "            \"Number of prev segments lesser than expected output size\"\n",
    "        )\n",
    "\n",
    "    cuts = np.linspace(0, features.shape[0], n_segments,\n",
    "                       dtype=int, endpoint=False)\n",
    "\n",
    "    new_feats = []\n",
    "    for i, j in zip(cuts[:-1], cuts[1:]):\n",
    "        new_feats.append(np.mean(features[i:j,:], axis=0))\n",
    "\n",
    "    new_feats.append(np.mean(features[cuts[-1]:,:], axis=0))\n",
    "\n",
    "    new_feats = np.array(new_feats)\n",
    "    new_feats = sklearn.preprocessing.normalize(new_feats, axis=1)\n",
    "    del cuts\n",
    "    gc.collect(generation=2)\n",
    "    return new_feats"
   ]
  },
  {
   "cell_type": "markdown",
   "metadata": {
    "id": "LjY1bDQCbxMr"
   },
   "source": [
    "# C3d"
   ]
  },
  {
   "cell_type": "code",
   "execution_count": 20,
   "metadata": {
    "id": "L-fcmxrtbeQX"
   },
   "outputs": [],
   "source": [
    "def C3D(weights='sports1M'):\n",
    "    \"\"\"Creation of the full C3D architecture\n",
    "    :param weights: Weights to be loaded into the network. If None,\n",
    "    the network is randomly initialized.\n",
    "    :returns: Network model\n",
    "    :rtype: keras.model\n",
    "    \"\"\"\n",
    "\n",
    "    if weights not in {'sports1M', None}:\n",
    "        raise ValueError('weights should be either be sports1M or None')\n",
    "\n",
    "    if K.image_data_format() == 'channels_last':\n",
    "        shape = (16, 112, 112, 3)\n",
    "    else:\n",
    "        shape = (3, 16, 112, 112)\n",
    "\n",
    "    model = Sequential()\n",
    "    model.add(\n",
    "        Conv3D(64,\n",
    "               3,\n",
    "               activation='relu',\n",
    "               padding='same',\n",
    "               name='conv1',\n",
    "               input_shape=shape))\n",
    "    model.add(\n",
    "        MaxPooling3D(pool_size=(1, 2, 2),\n",
    "                     strides=(1, 2, 2),\n",
    "                     padding='same',\n",
    "                     name='pool1'))\n",
    "\n",
    "    model.add(Conv3D(128, 3, activation='relu', padding='same', name='conv2'))\n",
    "    model.add(\n",
    "        MaxPooling3D(pool_size=(2, 2, 2),\n",
    "                     strides=(2, 2, 2),\n",
    "                     padding='valid',\n",
    "                     name='pool2'))\n",
    "\n",
    "    model.add(Conv3D(256, 3, activation='relu', padding='same', name='conv3a'))\n",
    "    model.add(Conv3D(256, 3, activation='relu', padding='same', name='conv3b'))\n",
    "    model.add(\n",
    "        MaxPooling3D(pool_size=(2, 2, 2),\n",
    "                     strides=(2, 2, 2),\n",
    "                     padding='valid',\n",
    "                     name='pool3'))\n",
    "\n",
    "    model.add(Conv3D(512, 3, activation='relu', padding='same', name='conv4a'))\n",
    "    model.add(Conv3D(512, 3, activation='relu', padding='same', name='conv4b'))\n",
    "    model.add(\n",
    "        MaxPooling3D(pool_size=(2, 2, 2),\n",
    "                     strides=(2, 2, 2),\n",
    "                     padding='valid',\n",
    "                     name='pool4'))\n",
    "\n",
    "    model.add(Conv3D(512, 3, activation='relu', padding='same', name='conv5a'))\n",
    "    model.add(Conv3D(512, 3, activation='relu', padding='same', name='conv5b'))\n",
    "    model.add(ZeroPadding3D(padding=(0, 1, 1)))\n",
    "    model.add(\n",
    "        MaxPooling3D(pool_size=(2, 2, 2),\n",
    "                     strides=(2, 2, 2),\n",
    "                     padding='valid',\n",
    "                     name='pool5'))\n",
    "\n",
    "    model.add(Flatten())\n",
    "\n",
    "    model.add(Dense(4096, activation='relu', name='fc6'))\n",
    "    model.add(Dropout(0.5))\n",
    "    model.add(Dense(4096, activation='relu', name='fc7'))\n",
    "    model.add(Dropout(0.5))\n",
    "    model.add(Dense(487, activation='softmax', name='fc8'))\n",
    "\n",
    "    if weights == 'sports1M':\n",
    "        model.load_weights(c3d_model_weights)\n",
    "\n",
    "    return model"
   ]
  },
  {
   "cell_type": "code",
   "execution_count": 21,
   "metadata": {
    "id": "mMPYnJ3mb3-x"
   },
   "outputs": [],
   "source": [
    "def c3d_feature_extractor():\n",
    "    \"\"\"Creation of the feature extraction architecture. This network is\n",
    "    formed by a subset of the original C3D architecture (from the\n",
    "    beginning to fc6 layer)\n",
    "    :returns: Feature extraction model\n",
    "    :rtype: keras.model\n",
    "    \"\"\"\n",
    "    model = C3D()\n",
    "    layer_name = 'fc6'\n",
    "    feature_extractor_model = Model(inputs=model.input,\n",
    "                                    outputs=model.get_layer(layer_name).output)\n",
    "    return feature_extractor_model"
   ]
  },
  {
   "cell_type": "code",
   "execution_count": 22,
   "metadata": {
    "id": "rQmNkfJIcMZT"
   },
   "outputs": [],
   "source": [
    "feature_extractor = c3d_feature_extractor()"
   ]
  },
  {
   "cell_type": "markdown",
   "metadata": {
    "id": "VBYYYvCbcJTm"
   },
   "source": [
    "# Extract Features"
   ]
  },
  {
   "cell_type": "markdown",
   "metadata": {
    "id": "VNtaMomVcbP7"
   },
   "source": [
    "## Normal Videos"
   ]
  },
  {
   "cell_type": "code",
   "execution_count": 28,
   "metadata": {
    "id": "GJs9rMnoQTm5"
   },
   "outputs": [],
   "source": [
    "normal_videos = os.listdir(normal_videos_path)\n",
    "normal_videos.sort()\n",
    "chunk = list(divide_chunks(normal_videos, 5))"
   ]
  },
  {
   "cell_type": "markdown",
   "metadata": {},
   "source": [
    "### C3d"
   ]
  },
  {
   "cell_type": "code",
   "execution_count": 29,
   "metadata": {
    "scrolled": true
   },
   "outputs": [
    {
     "name": "stdout",
     "output_type": "stream",
     "text": [
      "Processing normal videos in chunks...\n",
      "Processing Normal_Videos948_x264.mp4\n"
     ]
    },
    {
     "name": "stderr",
     "output_type": "stream",
     "text": [
      "C:\\ProgramData\\Anaconda3\\envs\\py35\\lib\\site-packages\\ipykernel_launcher.py:15: VisibleDeprecationWarning: Creating an ndarray from ragged nested sequences (which is a list-or-tuple of lists-or-tuples-or ndarrays with different lengths or shapes) is deprecated. If you meant to do this, you must specify 'dtype=object' when creating the ndarray\n",
      "  from ipykernel import kernelapp as app\n"
     ]
    },
    {
     "name": "stdout",
     "output_type": "stream",
     "text": [
      "3595\n",
      "Processing Normal_Videos949_x264.mp4\n"
     ]
    },
    {
     "name": "stderr",
     "output_type": "stream",
     "text": [
      "C:\\ProgramData\\Anaconda3\\envs\\py35\\lib\\site-packages\\ipykernel_launcher.py:15: VisibleDeprecationWarning: Creating an ndarray from ragged nested sequences (which is a list-or-tuple of lists-or-tuples-or ndarrays with different lengths or shapes) is deprecated. If you meant to do this, you must specify 'dtype=object' when creating the ndarray\n",
      "  from ipykernel import kernelapp as app\n"
     ]
    },
    {
     "name": "stdout",
     "output_type": "stream",
     "text": [
      "1111\n",
      "Processing Normal_Videos950_x264.mp4\n"
     ]
    },
    {
     "name": "stderr",
     "output_type": "stream",
     "text": [
      "C:\\ProgramData\\Anaconda3\\envs\\py35\\lib\\site-packages\\ipykernel_launcher.py:15: VisibleDeprecationWarning: Creating an ndarray from ragged nested sequences (which is a list-or-tuple of lists-or-tuples-or ndarrays with different lengths or shapes) is deprecated. If you meant to do this, you must specify 'dtype=object' when creating the ndarray\n",
      "  from ipykernel import kernelapp as app\n"
     ]
    },
    {
     "name": "stdout",
     "output_type": "stream",
     "text": [
      "2412\n"
     ]
    }
   ],
   "source": [
    "print(\"Processing normal videos in chunks...\")\n",
    "for vid_name1 in chunk:\n",
    "    for vid_name in vid_name1:\n",
    "        print(\"Processing {}\".format(vid_name))\n",
    "        vid_path = os.path.join(normal_videos_path, vid_name)\n",
    "        feats_path = os.path.join(\n",
    "            raw_normal_train_features_c3d, vid_name[:-9] + \".npy\")\n",
    "\n",
    "        clips, frames = get_video_clips(vid_path, c3d_frame_count)\n",
    "        print(frames)\n",
    "        if frames > 8000:\n",
    "            continue\n",
    "        # Remove last clip if number of frames is not equal to 16\n",
    "        if frames % 16 != 0:\n",
    "            clips = clips[:-1]\n",
    "\n",
    "        prep_clips = [preprocess_input_c3d(np.array(clip)) for clip in clips]\n",
    "        prep_clips = np.vstack(prep_clips)\n",
    "\n",
    "        features = feature_extractor.predict(prep_clips)\n",
    "        del prep_clips\n",
    "        features = sklearn.preprocessing.normalize(features, axis=1)   \n",
    "        with open(feats_path, \"wb\") as f:\n",
    "            np.save(f, features)\n",
    "        del features\n",
    "        gc.collect(generation=2)"
   ]
  },
  {
   "cell_type": "code",
   "execution_count": 30,
   "metadata": {},
   "outputs": [
    {
     "name": "stdout",
     "output_type": "stream",
     "text": [
      "Processing Normal_Videos004.npy\n",
      "Processing Normal_Videos007.npy\n",
      "Processing Normal_Videos009.npy\n",
      "Processing Normal_Videos011.npy\n",
      "Processing Normal_Videos012.npy\n",
      "Processing Normal_Videos013.npy\n",
      "Processing Normal_Videos016.npy\n",
      "Processing Normal_Videos020.npy\n",
      "Video Normal_Videos020.npy too short\n",
      "Processing Normal_Videos029.npy\n",
      "Processing Normal_Videos038.npy\n",
      "Processing Normal_Videos039.npy\n",
      "Processing Normal_Videos040.npy\n",
      "Processing Normal_Videos049.npy\n",
      "Processing Normal_Videos053.npy\n",
      "Video Normal_Videos053.npy too short\n",
      "Processing Normal_Videos054.npy\n",
      "Processing Normal_Videos055.npy\n",
      "Video Normal_Videos055.npy too short\n",
      "Processing Normal_Videos060.npy\n",
      "Processing Normal_Videos062.npy\n",
      "Processing Normal_Videos068.npy\n",
      "Processing Normal_Videos071.npy\n",
      "Processing Normal_Videos072.npy\n",
      "Processing Normal_Videos074.npy\n",
      "Processing Normal_Videos075.npy\n",
      "Processing Normal_Videos078.npy\n",
      "Processing Normal_Videos080.npy\n",
      "Processing Normal_Videos088.npy\n",
      "Processing Normal_Videos093.npy\n",
      "Processing Normal_Videos094.npy\n",
      "Processing Normal_Videos101.npy\n",
      "Processing Normal_Videos104.npy\n",
      "Processing Normal_Videos106.npy\n",
      "Processing Normal_Videos108.npy\n",
      "Processing Normal_Videos109.npy\n",
      "Processing Normal_Videos113.npy\n",
      "Processing Normal_Videos114.npy\n",
      "Processing Normal_Videos115.npy\n",
      "Video Normal_Videos115.npy too short\n",
      "Processing Normal_Videos116.npy\n",
      "Processing Normal_Videos122.npy\n",
      "Processing Normal_Videos124.npy\n",
      "Processing Normal_Videos125.npy\n",
      "Processing Normal_Videos126.npy\n",
      "Processing Normal_Videos127.npy\n",
      "Processing Normal_Videos128.npy\n",
      "Processing Normal_Videos131.npy\n",
      "Processing Normal_Videos133.npy\n",
      "Processing Normal_Videos134.npy\n",
      "Processing Normal_Videos135.npy\n",
      "Processing Normal_Videos140.npy\n",
      "Processing Normal_Videos147.npy\n",
      "Video Normal_Videos147.npy too short\n",
      "Processing Normal_Videos149.npy\n",
      "Processing Normal_Videos155.npy\n",
      "Video Normal_Videos155.npy too short\n",
      "Processing Normal_Videos159.npy\n",
      "Processing Normal_Videos160.npy\n",
      "Processing Normal_Videos161.npy\n",
      "Processing Normal_Videos162.npy\n",
      "Processing Normal_Videos163.npy\n",
      "Processing Normal_Videos167.npy\n",
      "Processing Normal_Videos170.npy\n",
      "Processing Normal_Videos173.npy\n",
      "Processing Normal_Videos178.npy\n",
      "Processing Normal_Videos181.npy\n",
      "Processing Normal_Videos183.npy\n",
      "Processing Normal_Videos194.npy\n",
      "Processing Normal_Videos197.npy\n",
      "Processing Normal_Videos199.npy\n",
      "Processing Normal_Videos201.npy\n",
      "Processing Normal_Videos202.npy\n",
      "Processing Normal_Videos204.npy\n",
      "Processing Normal_Videos208.npy\n",
      "Processing Normal_Videos209.npy\n",
      "Processing Normal_Videos213.npy\n",
      "Processing Normal_Videos216.npy\n",
      "Processing Normal_Videos218.npy\n",
      "Processing Normal_Videos220.npy\n",
      "Processing Normal_Videos223.npy\n",
      "Processing Normal_Videos227.npy\n",
      "Processing Normal_Videos229.npy\n",
      "Processing Normal_Videos230.npy\n",
      "Video Normal_Videos230.npy too short\n",
      "Processing Normal_Videos233.npy\n",
      "Processing Normal_Videos235.npy\n",
      "Processing Normal_Videos237.npy\n",
      "Processing Normal_Videos238.npy\n",
      "Processing Normal_Videos241.npy\n",
      "Processing Normal_Videos250.npy\n",
      "Processing Normal_Videos252.npy\n",
      "Processing Normal_Videos253.npy\n",
      "Processing Normal_Videos258.npy\n",
      "Processing Normal_Videos262.npy\n",
      "Processing Normal_Videos263.npy\n",
      "Processing Normal_Videos265.npy\n",
      "Processing Normal_Videos267.npy\n",
      "Processing Normal_Videos269.npy\n",
      "Video Normal_Videos269.npy too short\n",
      "Processing Normal_Videos281.npy\n",
      "Video Normal_Videos281.npy too short\n",
      "Processing Normal_Videos282.npy\n",
      "Processing Normal_Videos284.npy\n",
      "Processing Normal_Videos285.npy\n",
      "Processing Normal_Videos287.npy\n",
      "Processing Normal_Videos288.npy\n",
      "Processing Normal_Videos291.npy\n",
      "Video Normal_Videos291.npy too short\n",
      "Processing Normal_Videos295.npy\n",
      "Processing Normal_Videos296.npy\n",
      "Processing Normal_Videos298.npy\n",
      "Processing Normal_Videos299.npy\n",
      "Processing Normal_Videos301.npy\n",
      "Processing Normal_Videos302.npy\n",
      "Processing Normal_Videos306.npy\n",
      "Processing Normal_Videos314.npy\n",
      "Processing Normal_Videos315.npy\n",
      "Processing Normal_Videos319.npy\n",
      "Processing Normal_Videos320.npy\n",
      "Processing Normal_Videos322.npy\n",
      "Processing Normal_Videos326.npy\n",
      "Processing Normal_Videos328.npy\n",
      "Processing Normal_Videos335.npy\n",
      "Processing Normal_Videos336.npy\n",
      "Processing Normal_Videos340.npy\n",
      "Processing Normal_Videos342.npy\n",
      "Processing Normal_Videos343.npy\n",
      "Processing Normal_Videos347.npy\n",
      "Processing Normal_Videos348.npy\n",
      "Processing Normal_Videos350.npy\n",
      "Processing Normal_Videos354.npy\n",
      "Processing Normal_Videos355.npy\n",
      "Processing Normal_Videos356.npy\n",
      "Processing Normal_Videos358.npy\n",
      "Processing Normal_Videos359.npy\n",
      "Processing Normal_Videos362.npy\n",
      "Processing Normal_Videos370.npy\n",
      "Processing Normal_Videos373.npy\n",
      "Video Normal_Videos373.npy too short\n",
      "Processing Normal_Videos380.npy\n",
      "Processing Normal_Videos382.npy\n",
      "Processing Normal_Videos383.npy\n",
      "Processing Normal_Videos388.npy\n",
      "Processing Normal_Videos394.npy\n",
      "Processing Normal_Videos395.npy\n",
      "Video Normal_Videos395.npy too short\n",
      "Processing Normal_Videos398.npy\n",
      "Processing Normal_Videos399.npy\n",
      "Processing Normal_Videos402.npy\n",
      "Processing Normal_Videos404.npy\n",
      "Processing Normal_Videos405.npy\n",
      "Processing Normal_Videos407.npy\n",
      "Video Normal_Videos407.npy too short\n",
      "Processing Normal_Videos411.npy\n",
      "Processing Normal_Videos419.npy\n",
      "Processing Normal_Videos421.npy\n",
      "Processing Normal_Videos422.npy\n",
      "Processing Normal_Videos423.npy\n",
      "Processing Normal_Videos424.npy\n",
      "Processing Normal_Videos426.npy\n",
      "Processing Normal_Videos427.npy\n",
      "Processing Normal_Videos428.npy\n",
      "Processing Normal_Videos429.npy\n",
      "Processing Normal_Videos430.npy\n",
      "Processing Normal_Videos432.npy\n",
      "Processing Normal_Videos433.npy\n",
      "Video Normal_Videos433.npy too short\n",
      "Processing Normal_Videos434.npy\n",
      "Processing Normal_Videos435.npy\n",
      "Processing Normal_Videos440.npy\n",
      "Processing Normal_Videos442.npy\n",
      "Processing Normal_Videos456.npy\n",
      "Processing Normal_Videos457.npy\n",
      "Processing Normal_Videos458.npy\n",
      "Processing Normal_Videos460.npy\n",
      "Processing Normal_Videos462.npy\n",
      "Processing Normal_Videos464.npy\n",
      "Processing Normal_Videos465.npy\n",
      "Processing Normal_Videos468.npy\n",
      "Processing Normal_Videos469.npy\n",
      "Processing Normal_Videos470.npy\n",
      "Processing Normal_Videos476.npy\n",
      "Processing Normal_Videos480.npy\n",
      "Processing Normal_Videos483.npy\n",
      "Processing Normal_Videos485.npy\n",
      "Processing Normal_Videos486.npy\n",
      "Processing Normal_Videos487.npy\n",
      "Video Normal_Videos487.npy too short\n",
      "Processing Normal_Videos488.npy\n",
      "Processing Normal_Videos489.npy\n",
      "Processing Normal_Videos493.npy\n",
      "Processing Normal_Videos495.npy\n",
      "Processing Normal_Videos497.npy\n",
      "Processing Normal_Videos498.npy\n",
      "Processing Normal_Videos499.npy\n",
      "Processing Normal_Videos500.npy\n",
      "Video Normal_Videos500.npy too short\n",
      "Processing Normal_Videos501.npy\n",
      "Processing Normal_Videos502.npy\n",
      "Processing Normal_Videos503.npy\n",
      "Processing Normal_Videos504.npy\n",
      "Processing Normal_Videos505.npy\n",
      "Processing Normal_Videos506.npy\n",
      "Processing Normal_Videos507.npy\n",
      "Processing Normal_Videos508.npy\n",
      "Processing Normal_Videos509.npy\n",
      "Processing Normal_Videos513.npy\n",
      "Processing Normal_Videos514.npy\n",
      "Processing Normal_Videos516.npy\n",
      "Processing Normal_Videos517.npy\n",
      "Processing Normal_Videos518.npy\n",
      "Processing Normal_Videos519.npy\n",
      "Processing Normal_Videos522.npy\n",
      "Processing Normal_Videos523.npy\n",
      "Video Normal_Videos523.npy too short\n",
      "Processing Normal_Videos527.npy\n",
      "Processing Normal_Videos528.npy\n",
      "Processing Normal_Videos531.npy\n",
      "Processing Normal_Videos535.npy\n",
      "Processing Normal_Videos537.npy\n",
      "Processing Normal_Videos538.npy\n",
      "Processing Normal_Videos539.npy\n",
      "Processing Normal_Videos542.npy\n",
      "Processing Normal_Videos546.npy\n",
      "Processing Normal_Videos552.npy\n",
      "Processing Normal_Videos554.npy\n",
      "Processing Normal_Videos555.npy\n",
      "Processing Normal_Videos558.npy\n",
      "Processing Normal_Videos567.npy\n",
      "Processing Normal_Videos568.npy\n",
      "Processing Normal_Videos569.npy\n",
      "Processing Normal_Videos570.npy\n",
      "Processing Normal_Videos571.npy\n",
      "Processing Normal_Videos572.npy\n",
      "Processing Normal_Videos573.npy\n",
      "Processing Normal_Videos575.npy\n",
      "Processing Normal_Videos577.npy\n",
      "Processing Normal_Videos578.npy\n",
      "Processing Normal_Videos580.npy\n",
      "Processing Normal_Videos581.npy\n",
      "Processing Normal_Videos582.npy\n",
      "Processing Normal_Videos583.npy\n",
      "Processing Normal_Videos585.npy\n",
      "Processing Normal_Videos586.npy\n",
      "Processing Normal_Videos588.npy\n",
      "Processing Normal_Videos589.npy\n",
      "Processing Normal_Videos592.npy\n",
      "Processing Normal_Videos593.npy\n",
      "Processing Normal_Videos594.npy\n",
      "Processing Normal_Videos595.npy\n",
      "Processing Normal_Videos596.npy\n",
      "Processing Normal_Videos598.npy\n",
      "Processing Normal_Videos599.npy\n",
      "Processing Normal_Videos600.npy\n",
      "Processing Normal_Videos601.npy\n",
      "Processing Normal_Videos604.npy\n",
      "Processing Normal_Videos605.npy\n",
      "Processing Normal_Videos607.npy\n",
      "Processing Normal_Videos609.npy\n",
      "Processing Normal_Videos610.npy\n",
      "Processing Normal_Videos611.npy\n",
      "Processing Normal_Videos612.npy\n",
      "Processing Normal_Videos613.npy\n",
      "Processing Normal_Videos614.npy\n",
      "Processing Normal_Videos615.npy\n",
      "Processing Normal_Videos616.npy\n",
      "Processing Normal_Videos617.npy\n",
      "Processing Normal_Videos618.npy\n",
      "Processing Normal_Videos622.npy\n",
      "Processing Normal_Videos624.npy\n",
      "Processing Normal_Videos625.npy\n",
      "Processing Normal_Videos627.npy\n",
      "Processing Normal_Videos628.npy\n",
      "Processing Normal_Videos629.npy\n",
      "Processing Normal_Videos631.npy\n",
      "Processing Normal_Videos635.npy\n",
      "Processing Normal_Videos636.npy\n",
      "Processing Normal_Videos637.npy\n",
      "Processing Normal_Videos639.npy\n",
      "Processing Normal_Videos640.npy\n",
      "Processing Normal_Videos643.npy\n",
      "Processing Normal_Videos644.npy\n",
      "Processing Normal_Videos645.npy\n",
      "Processing Normal_Videos646.npy\n",
      "Processing Normal_Videos647.npy\n",
      "Processing Normal_Videos648.npy\n",
      "Processing Normal_Videos649.npy\n",
      "Processing Normal_Videos650.npy\n",
      "Processing Normal_Videos651.npy\n",
      "Processing Normal_Videos652.npy\n",
      "Processing Normal_Videos653.npy\n",
      "Processing Normal_Videos654.npy\n",
      "Processing Normal_Videos655.npy\n",
      "Processing Normal_Videos657.npy\n",
      "Processing Normal_Videos658.npy\n",
      "Video Normal_Videos658.npy too short\n",
      "Processing Normal_Videos659.npy\n",
      "Processing Normal_Videos660.npy\n",
      "Processing Normal_Videos661.npy\n",
      "Processing Normal_Videos662.npy\n",
      "Video Normal_Videos662.npy too short\n",
      "Processing Normal_Videos663.npy\n",
      "Processing Normal_Videos664.npy\n",
      "Processing Normal_Videos667.npy\n",
      "Processing Normal_Videos668.npy\n",
      "Processing Normal_Videos669.npy\n",
      "Processing Normal_Videos670.npy\n",
      "Processing Normal_Videos671.npy\n",
      "Processing Normal_Videos672.npy\n",
      "Processing Normal_Videos673.npy\n",
      "Processing Normal_Videos674.npy\n",
      "Processing Normal_Videos675.npy\n",
      "Processing Normal_Videos676.npy\n",
      "Processing Normal_Videos677.npy\n",
      "Processing Normal_Videos678.npy\n",
      "Processing Normal_Videos679.npy\n",
      "Processing Normal_Videos680.npy\n",
      "Processing Normal_Videos682.npy\n",
      "Processing Normal_Videos685.npy\n",
      "Processing Normal_Videos690.npy\n",
      "Processing Normal_Videos692.npy\n",
      "Processing Normal_Videos693.npy\n",
      "Processing Normal_Videos695.npy\n",
      "Processing Normal_Videos697.npy\n",
      "Processing Normal_Videos698.npy\n",
      "Processing Normal_Videos699.npy\n",
      "Processing Normal_Videos700.npy\n",
      "Processing Normal_Videos703.npy\n",
      "Processing Normal_Videos705.npy\n",
      "Video Normal_Videos705.npy too short\n",
      "Processing Normal_Videos706.npy\n",
      "Processing Normal_Videos707.npy\n",
      "Processing Normal_Videos708.npy\n",
      "Processing Normal_Videos709.npy\n",
      "Processing Normal_Videos711.npy\n",
      "Processing Normal_Videos712.npy\n",
      "Processing Normal_Videos715.npy\n",
      "Processing Normal_Videos719.npy\n",
      "Processing Normal_Videos721.npy\n",
      "Processing Normal_Videos723.npy\n",
      "Processing Normal_Videos724.npy\n",
      "Processing Normal_Videos726.npy\n",
      "Processing Normal_Videos727.npy\n",
      "Processing Normal_Videos728.npy\n",
      "Processing Normal_Videos729.npy\n",
      "Processing Normal_Videos730.npy\n",
      "Processing Normal_Videos731.npy\n",
      "Video Normal_Videos731.npy too short\n",
      "Processing Normal_Videos732.npy\n",
      "Processing Normal_Videos733.npy\n",
      "Processing Normal_Videos734.npy\n",
      "Processing Normal_Videos735.npy\n",
      "Processing Normal_Videos736.npy\n",
      "Processing Normal_Videos737.npy\n",
      "Processing Normal_Videos738.npy\n",
      "Processing Normal_Videos739.npy\n",
      "Processing Normal_Videos740.npy\n",
      "Processing Normal_Videos741.npy\n",
      "Processing Normal_Videos742.npy\n",
      "Processing Normal_Videos743.npy\n",
      "Processing Normal_Videos744.npy\n",
      "Processing Normal_Videos746.npy\n",
      "Video Normal_Videos746.npy too short\n",
      "Processing Normal_Videos747.npy\n",
      "Processing Normal_Videos748.npy\n",
      "Processing Normal_Videos749.npy\n",
      "Processing Normal_Videos750.npy\n",
      "Processing Normal_Videos751.npy\n",
      "Processing Normal_Videos752.npy\n",
      "Processing Normal_Videos753.npy\n",
      "Processing Normal_Videos754.npy\n",
      "Processing Normal_Videos755.npy\n",
      "Processing Normal_Videos756.npy\n",
      "Processing Normal_Videos757.npy\n",
      "Processing Normal_Videos759.npy\n",
      "Processing Normal_Videos760.npy\n",
      "Processing Normal_Videos761.npy\n",
      "Processing Normal_Videos763.npy\n",
      "Processing Normal_Videos764.npy\n",
      "Processing Normal_Videos765.npy\n",
      "Processing Normal_Videos766.npy\n",
      "Video Normal_Videos766.npy too short\n",
      "Processing Normal_Videos767.npy\n",
      "Processing Normal_Videos768.npy\n",
      "Processing Normal_Videos770.npy\n",
      "Processing Normal_Videos771.npy\n",
      "Processing Normal_Videos772.npy\n",
      "Processing Normal_Videos773.npy\n",
      "Processing Normal_Videos774.npy\n",
      "Processing Normal_Videos775.npy\n",
      "Processing Normal_Videos777.npy\n",
      "Processing Normal_Videos779.npy\n",
      "Video Normal_Videos779.npy too short\n",
      "Processing Normal_Videos784.npy\n",
      "Processing Normal_Videos786.npy\n",
      "Processing Normal_Videos787.npy\n",
      "Processing Normal_Videos788.npy\n",
      "Processing Normal_Videos789.npy\n",
      "Processing Normal_Videos790.npy\n",
      "Processing Normal_Videos791.npy\n",
      "Processing Normal_Videos793.npy\n",
      "Processing Normal_Videos794.npy\n",
      "Processing Normal_Videos797.npy\n",
      "Processing Normal_Videos799.npy\n",
      "Processing Normal_Videos800.npy\n",
      "Video Normal_Videos800.npy too short\n",
      "Processing Normal_Videos802.npy\n",
      "Processing Normal_Videos803.npy\n",
      "Processing Normal_Videos804.npy\n",
      "Processing Normal_Videos805.npy\n",
      "Processing Normal_Videos806.npy\n",
      "Processing Normal_Videos807.npy\n",
      "Processing Normal_Videos808.npy\n",
      "Processing Normal_Videos809.npy\n",
      "Processing Normal_Videos810.npy\n",
      "Processing Normal_Videos811.npy\n",
      "Processing Normal_Videos812.npy\n",
      "Processing Normal_Videos813.npy\n",
      "Processing Normal_Videos814.npy\n",
      "Processing Normal_Videos815.npy\n",
      "Processing Normal_Videos816.npy\n",
      "Processing Normal_Videos817.npy\n",
      "Processing Normal_Videos818.npy\n",
      "Processing Normal_Videos820.npy\n",
      "Processing Normal_Videos821.npy\n",
      "Processing Normal_Videos822.npy\n",
      "Processing Normal_Videos823.npy\n",
      "Processing Normal_Videos824.npy\n",
      "Processing Normal_Videos825.npy\n",
      "Processing Normal_Videos826.npy\n",
      "Processing Normal_Videos827.npy\n",
      "Processing Normal_Videos829.npy\n",
      "Processing Normal_Videos830.npy\n",
      "Processing Normal_Videos833.npy\n",
      "Processing Normal_Videos834.npy\n",
      "Processing Normal_Videos835.npy\n",
      "Processing Normal_Videos837.npy\n",
      "Processing Normal_Videos838.npy\n",
      "Processing Normal_Videos839.npy\n",
      "Video Normal_Videos839.npy too short\n",
      "Processing Normal_Videos840.npy\n",
      "Video Normal_Videos840.npy too short\n",
      "Processing Normal_Videos841.npy\n",
      "Video Normal_Videos841.npy too short\n",
      "Processing Normal_Videos842.npy\n",
      "Processing Normal_Videos843.npy\n",
      "Video Normal_Videos843.npy too short\n",
      "Processing Normal_Videos844.npy\n",
      "Processing Normal_Videos845.npy\n",
      "Processing Normal_Videos846.npy\n",
      "Processing Normal_Videos847.npy\n",
      "Processing Normal_Videos848.npy\n",
      "Processing Normal_Videos849.npy\n",
      "Processing Normal_Videos850.npy\n",
      "Processing Normal_Videos851.npy\n",
      "Processing Normal_Videos852.npy\n",
      "Processing Normal_Videos853.npy\n",
      "Processing Normal_Videos857.npy\n",
      "Processing Normal_Videos858.npy\n",
      "Processing Normal_Videos859.npy\n",
      "Processing Normal_Videos860.npy\n",
      "Processing Normal_Videos861.npy\n",
      "Processing Normal_Videos862.npy\n",
      "Processing Normal_Videos863.npy\n",
      "Processing Normal_Videos864.npy\n",
      "Processing Normal_Videos865.npy\n",
      "Processing Normal_Videos916.npy\n",
      "Video Normal_Videos916.npy too short\n",
      "Processing Normal_Videos917.npy\n",
      "Processing Normal_Videos918.npy\n",
      "Processing Normal_Videos919.npy\n",
      "Video Normal_Videos919.npy too short\n",
      "Processing Normal_Videos920.npy\n",
      "Processing Normal_Videos921.npy\n",
      "Processing Normal_Videos922.npy\n",
      "Processing Normal_Videos942.npy\n",
      "Processing Normal_Videos945.npy\n",
      "Processing Normal_Videos948.npy\n",
      "Processing Normal_Videos949.npy\n",
      "Processing Normal_Videos950.npy\n"
     ]
    }
   ],
   "source": [
    "raw_normal_train_features_c3d_list=os.listdir(raw_normal_train_features_c3d)\n",
    "for filename in os.listdir(raw_normal_train_features_c3d):\n",
    "    print(\"Processing {}\".format(filename))\n",
    "    raw_file_path = os.path.join(\n",
    "        raw_normal_train_features_c3d, filename\n",
    "    )\n",
    "    processed_file_path = os.path.join(\n",
    "        processed_normal_train_features_c3d, filename\n",
    "    )\n",
    "    with open(raw_file_path, \"rb\") as f:\n",
    "        feats = np.load(f, allow_pickle=True)\n",
    "\n",
    "    try:\n",
    "        new_feats = transform_into_segments(feats)\n",
    "        with open(processed_file_path, \"wb\") as f:\n",
    "            np.save(f, new_feats, allow_pickle=True)\n",
    "    except RuntimeError:\n",
    "        print(\"Video {} too short\".format(filename))"
   ]
  },
  {
   "cell_type": "markdown",
   "metadata": {
    "id": "S3jDISdJg5Ln"
   },
   "source": [
    "## Anomaly Videos"
   ]
  },
  {
   "cell_type": "code",
   "execution_count": 43,
   "metadata": {
    "id": "-4sXcsScwyL0"
   },
   "outputs": [],
   "source": [
    "abnormal_videos = os.listdir(abnormal_videos_path)\n",
    "abnormal_videos.sort()\n",
    "chunk = list(divide_chunks(abnormal_videos, 5))"
   ]
  },
  {
   "cell_type": "markdown",
   "metadata": {
    "id": "lKzL2lYHioRU"
   },
   "source": [
    "### C3d"
   ]
  },
  {
   "cell_type": "code",
   "execution_count": 44,
   "metadata": {
    "id": "C7Y5IN98cjqd",
    "scrolled": false
   },
   "outputs": [
    {
     "name": "stdout",
     "output_type": "stream",
     "text": [
      "Processing abnormal videos in chunks...\n",
      "Processing Vandalism001_x264.mp4\n"
     ]
    },
    {
     "name": "stderr",
     "output_type": "stream",
     "text": [
      "C:\\ProgramData\\Anaconda3\\envs\\py35\\lib\\site-packages\\ipykernel_launcher.py:15: VisibleDeprecationWarning: Creating an ndarray from ragged nested sequences (which is a list-or-tuple of lists-or-tuples-or ndarrays with different lengths or shapes) is deprecated. If you meant to do this, you must specify 'dtype=object' when creating the ndarray\n",
      "  from ipykernel import kernelapp as app\n"
     ]
    },
    {
     "name": "stdout",
     "output_type": "stream",
     "text": [
      "1434\n",
      "Processing Vandalism002_x264.mp4\n"
     ]
    },
    {
     "name": "stderr",
     "output_type": "stream",
     "text": [
      "C:\\ProgramData\\Anaconda3\\envs\\py35\\lib\\site-packages\\ipykernel_launcher.py:15: VisibleDeprecationWarning: Creating an ndarray from ragged nested sequences (which is a list-or-tuple of lists-or-tuples-or ndarrays with different lengths or shapes) is deprecated. If you meant to do this, you must specify 'dtype=object' when creating the ndarray\n",
      "  from ipykernel import kernelapp as app\n"
     ]
    },
    {
     "name": "stdout",
     "output_type": "stream",
     "text": [
      "1841\n",
      "Processing Vandalism003_x264.mp4\n"
     ]
    },
    {
     "name": "stderr",
     "output_type": "stream",
     "text": [
      "C:\\ProgramData\\Anaconda3\\envs\\py35\\lib\\site-packages\\ipykernel_launcher.py:15: VisibleDeprecationWarning: Creating an ndarray from ragged nested sequences (which is a list-or-tuple of lists-or-tuples-or ndarrays with different lengths or shapes) is deprecated. If you meant to do this, you must specify 'dtype=object' when creating the ndarray\n",
      "  from ipykernel import kernelapp as app\n"
     ]
    },
    {
     "name": "stdout",
     "output_type": "stream",
     "text": [
      "1469\n",
      "Processing Vandalism004_x264.mp4\n"
     ]
    },
    {
     "name": "stderr",
     "output_type": "stream",
     "text": [
      "C:\\ProgramData\\Anaconda3\\envs\\py35\\lib\\site-packages\\ipykernel_launcher.py:15: VisibleDeprecationWarning: Creating an ndarray from ragged nested sequences (which is a list-or-tuple of lists-or-tuples-or ndarrays with different lengths or shapes) is deprecated. If you meant to do this, you must specify 'dtype=object' when creating the ndarray\n",
      "  from ipykernel import kernelapp as app\n"
     ]
    },
    {
     "name": "stdout",
     "output_type": "stream",
     "text": [
      "2820\n",
      "Processing Vandalism005_x264.mp4\n"
     ]
    },
    {
     "name": "stderr",
     "output_type": "stream",
     "text": [
      "C:\\ProgramData\\Anaconda3\\envs\\py35\\lib\\site-packages\\ipykernel_launcher.py:15: VisibleDeprecationWarning: Creating an ndarray from ragged nested sequences (which is a list-or-tuple of lists-or-tuples-or ndarrays with different lengths or shapes) is deprecated. If you meant to do this, you must specify 'dtype=object' when creating the ndarray\n",
      "  from ipykernel import kernelapp as app\n"
     ]
    },
    {
     "name": "stdout",
     "output_type": "stream",
     "text": [
      "1624\n",
      "Processing Vandalism006_x264.mp4\n"
     ]
    },
    {
     "name": "stderr",
     "output_type": "stream",
     "text": [
      "C:\\ProgramData\\Anaconda3\\envs\\py35\\lib\\site-packages\\ipykernel_launcher.py:15: VisibleDeprecationWarning: Creating an ndarray from ragged nested sequences (which is a list-or-tuple of lists-or-tuples-or ndarrays with different lengths or shapes) is deprecated. If you meant to do this, you must specify 'dtype=object' when creating the ndarray\n",
      "  from ipykernel import kernelapp as app\n"
     ]
    },
    {
     "name": "stdout",
     "output_type": "stream",
     "text": [
      "811\n",
      "Processing Vandalism007_x264.mp4\n"
     ]
    },
    {
     "name": "stderr",
     "output_type": "stream",
     "text": [
      "C:\\ProgramData\\Anaconda3\\envs\\py35\\lib\\site-packages\\ipykernel_launcher.py:15: VisibleDeprecationWarning: Creating an ndarray from ragged nested sequences (which is a list-or-tuple of lists-or-tuples-or ndarrays with different lengths or shapes) is deprecated. If you meant to do this, you must specify 'dtype=object' when creating the ndarray\n",
      "  from ipykernel import kernelapp as app\n"
     ]
    },
    {
     "name": "stdout",
     "output_type": "stream",
     "text": [
      "1146\n",
      "Processing Vandalism008_x264.mp4\n"
     ]
    },
    {
     "name": "stderr",
     "output_type": "stream",
     "text": [
      "C:\\ProgramData\\Anaconda3\\envs\\py35\\lib\\site-packages\\ipykernel_launcher.py:15: VisibleDeprecationWarning: Creating an ndarray from ragged nested sequences (which is a list-or-tuple of lists-or-tuples-or ndarrays with different lengths or shapes) is deprecated. If you meant to do this, you must specify 'dtype=object' when creating the ndarray\n",
      "  from ipykernel import kernelapp as app\n"
     ]
    },
    {
     "name": "stdout",
     "output_type": "stream",
     "text": [
      "12589\n",
      "Processing Vandalism009_x264.mp4\n",
      "1328\n",
      "Processing Vandalism010_x264.mp4\n"
     ]
    },
    {
     "name": "stderr",
     "output_type": "stream",
     "text": [
      "C:\\ProgramData\\Anaconda3\\envs\\py35\\lib\\site-packages\\ipykernel_launcher.py:15: VisibleDeprecationWarning: Creating an ndarray from ragged nested sequences (which is a list-or-tuple of lists-or-tuples-or ndarrays with different lengths or shapes) is deprecated. If you meant to do this, you must specify 'dtype=object' when creating the ndarray\n",
      "  from ipykernel import kernelapp as app\n"
     ]
    },
    {
     "name": "stdout",
     "output_type": "stream",
     "text": [
      "3945\n",
      "Processing Vandalism011_x264.mp4\n"
     ]
    },
    {
     "name": "stderr",
     "output_type": "stream",
     "text": [
      "C:\\ProgramData\\Anaconda3\\envs\\py35\\lib\\site-packages\\ipykernel_launcher.py:15: VisibleDeprecationWarning: Creating an ndarray from ragged nested sequences (which is a list-or-tuple of lists-or-tuples-or ndarrays with different lengths or shapes) is deprecated. If you meant to do this, you must specify 'dtype=object' when creating the ndarray\n",
      "  from ipykernel import kernelapp as app\n"
     ]
    },
    {
     "name": "stdout",
     "output_type": "stream",
     "text": [
      "12449\n",
      "Processing Vandalism012_x264.mp4\n",
      "845\n",
      "Processing Vandalism013_x264.mp4\n"
     ]
    },
    {
     "name": "stderr",
     "output_type": "stream",
     "text": [
      "C:\\ProgramData\\Anaconda3\\envs\\py35\\lib\\site-packages\\ipykernel_launcher.py:15: VisibleDeprecationWarning: Creating an ndarray from ragged nested sequences (which is a list-or-tuple of lists-or-tuples-or ndarrays with different lengths or shapes) is deprecated. If you meant to do this, you must specify 'dtype=object' when creating the ndarray\n",
      "  from ipykernel import kernelapp as app\n"
     ]
    },
    {
     "name": "stdout",
     "output_type": "stream",
     "text": [
      "2379\n",
      "Processing Vandalism014_x264.mp4\n"
     ]
    },
    {
     "name": "stderr",
     "output_type": "stream",
     "text": [
      "C:\\ProgramData\\Anaconda3\\envs\\py35\\lib\\site-packages\\ipykernel_launcher.py:15: VisibleDeprecationWarning: Creating an ndarray from ragged nested sequences (which is a list-or-tuple of lists-or-tuples-or ndarrays with different lengths or shapes) is deprecated. If you meant to do this, you must specify 'dtype=object' when creating the ndarray\n",
      "  from ipykernel import kernelapp as app\n"
     ]
    },
    {
     "name": "stdout",
     "output_type": "stream",
     "text": [
      "429\n",
      "Processing Vandalism015_x264.mp4\n"
     ]
    },
    {
     "name": "stderr",
     "output_type": "stream",
     "text": [
      "C:\\ProgramData\\Anaconda3\\envs\\py35\\lib\\site-packages\\ipykernel_launcher.py:15: VisibleDeprecationWarning: Creating an ndarray from ragged nested sequences (which is a list-or-tuple of lists-or-tuples-or ndarrays with different lengths or shapes) is deprecated. If you meant to do this, you must specify 'dtype=object' when creating the ndarray\n",
      "  from ipykernel import kernelapp as app\n"
     ]
    },
    {
     "name": "stdout",
     "output_type": "stream",
     "text": [
      "2982\n",
      "Processing Vandalism016_x264.mp4\n"
     ]
    },
    {
     "name": "stderr",
     "output_type": "stream",
     "text": [
      "C:\\ProgramData\\Anaconda3\\envs\\py35\\lib\\site-packages\\ipykernel_launcher.py:15: VisibleDeprecationWarning: Creating an ndarray from ragged nested sequences (which is a list-or-tuple of lists-or-tuples-or ndarrays with different lengths or shapes) is deprecated. If you meant to do this, you must specify 'dtype=object' when creating the ndarray\n",
      "  from ipykernel import kernelapp as app\n"
     ]
    },
    {
     "name": "stdout",
     "output_type": "stream",
     "text": [
      "5810\n",
      "Processing Vandalism017_x264.mp4\n"
     ]
    },
    {
     "name": "stderr",
     "output_type": "stream",
     "text": [
      "C:\\ProgramData\\Anaconda3\\envs\\py35\\lib\\site-packages\\ipykernel_launcher.py:15: VisibleDeprecationWarning: Creating an ndarray from ragged nested sequences (which is a list-or-tuple of lists-or-tuples-or ndarrays with different lengths or shapes) is deprecated. If you meant to do this, you must specify 'dtype=object' when creating the ndarray\n",
      "  from ipykernel import kernelapp as app\n"
     ]
    },
    {
     "name": "stdout",
     "output_type": "stream",
     "text": [
      "1011\n",
      "Processing Vandalism018_x264.mp4\n"
     ]
    },
    {
     "name": "stderr",
     "output_type": "stream",
     "text": [
      "C:\\ProgramData\\Anaconda3\\envs\\py35\\lib\\site-packages\\ipykernel_launcher.py:15: VisibleDeprecationWarning: Creating an ndarray from ragged nested sequences (which is a list-or-tuple of lists-or-tuples-or ndarrays with different lengths or shapes) is deprecated. If you meant to do this, you must specify 'dtype=object' when creating the ndarray\n",
      "  from ipykernel import kernelapp as app\n"
     ]
    },
    {
     "name": "stdout",
     "output_type": "stream",
     "text": [
      "5557\n",
      "Processing Vandalism019_x264.mp4\n"
     ]
    },
    {
     "name": "stderr",
     "output_type": "stream",
     "text": [
      "C:\\ProgramData\\Anaconda3\\envs\\py35\\lib\\site-packages\\ipykernel_launcher.py:15: VisibleDeprecationWarning: Creating an ndarray from ragged nested sequences (which is a list-or-tuple of lists-or-tuples-or ndarrays with different lengths or shapes) is deprecated. If you meant to do this, you must specify 'dtype=object' when creating the ndarray\n",
      "  from ipykernel import kernelapp as app\n"
     ]
    },
    {
     "name": "stdout",
     "output_type": "stream",
     "text": [
      "2047\n",
      "Processing Vandalism020_x264.mp4\n"
     ]
    },
    {
     "name": "stderr",
     "output_type": "stream",
     "text": [
      "C:\\ProgramData\\Anaconda3\\envs\\py35\\lib\\site-packages\\ipykernel_launcher.py:15: VisibleDeprecationWarning: Creating an ndarray from ragged nested sequences (which is a list-or-tuple of lists-or-tuples-or ndarrays with different lengths or shapes) is deprecated. If you meant to do this, you must specify 'dtype=object' when creating the ndarray\n",
      "  from ipykernel import kernelapp as app\n"
     ]
    },
    {
     "name": "stdout",
     "output_type": "stream",
     "text": [
      "1447\n",
      "Processing Vandalism021_x264.mp4\n"
     ]
    },
    {
     "name": "stderr",
     "output_type": "stream",
     "text": [
      "C:\\ProgramData\\Anaconda3\\envs\\py35\\lib\\site-packages\\ipykernel_launcher.py:15: VisibleDeprecationWarning: Creating an ndarray from ragged nested sequences (which is a list-or-tuple of lists-or-tuples-or ndarrays with different lengths or shapes) is deprecated. If you meant to do this, you must specify 'dtype=object' when creating the ndarray\n",
      "  from ipykernel import kernelapp as app\n"
     ]
    },
    {
     "name": "stdout",
     "output_type": "stream",
     "text": [
      "1362\n",
      "Processing Vandalism022_x264.mp4\n"
     ]
    },
    {
     "name": "stderr",
     "output_type": "stream",
     "text": [
      "C:\\ProgramData\\Anaconda3\\envs\\py35\\lib\\site-packages\\ipykernel_launcher.py:15: VisibleDeprecationWarning: Creating an ndarray from ragged nested sequences (which is a list-or-tuple of lists-or-tuples-or ndarrays with different lengths or shapes) is deprecated. If you meant to do this, you must specify 'dtype=object' when creating the ndarray\n",
      "  from ipykernel import kernelapp as app\n"
     ]
    },
    {
     "name": "stdout",
     "output_type": "stream",
     "text": [
      "3932\n",
      "Processing Vandalism023_x264.mp4\n"
     ]
    },
    {
     "name": "stderr",
     "output_type": "stream",
     "text": [
      "C:\\ProgramData\\Anaconda3\\envs\\py35\\lib\\site-packages\\ipykernel_launcher.py:15: VisibleDeprecationWarning: Creating an ndarray from ragged nested sequences (which is a list-or-tuple of lists-or-tuples-or ndarrays with different lengths or shapes) is deprecated. If you meant to do this, you must specify 'dtype=object' when creating the ndarray\n",
      "  from ipykernel import kernelapp as app\n"
     ]
    },
    {
     "name": "stdout",
     "output_type": "stream",
     "text": [
      "6301\n",
      "Processing Vandalism024_x264.mp4\n"
     ]
    },
    {
     "name": "stderr",
     "output_type": "stream",
     "text": [
      "C:\\ProgramData\\Anaconda3\\envs\\py35\\lib\\site-packages\\ipykernel_launcher.py:15: VisibleDeprecationWarning: Creating an ndarray from ragged nested sequences (which is a list-or-tuple of lists-or-tuples-or ndarrays with different lengths or shapes) is deprecated. If you meant to do this, you must specify 'dtype=object' when creating the ndarray\n",
      "  from ipykernel import kernelapp as app\n"
     ]
    },
    {
     "name": "stdout",
     "output_type": "stream",
     "text": [
      "1004\n",
      "Processing Vandalism025_x264.mp4\n",
      "4304\n",
      "Processing Vandalism026_x264.mp4\n"
     ]
    },
    {
     "name": "stderr",
     "output_type": "stream",
     "text": [
      "C:\\ProgramData\\Anaconda3\\envs\\py35\\lib\\site-packages\\ipykernel_launcher.py:15: VisibleDeprecationWarning: Creating an ndarray from ragged nested sequences (which is a list-or-tuple of lists-or-tuples-or ndarrays with different lengths or shapes) is deprecated. If you meant to do this, you must specify 'dtype=object' when creating the ndarray\n",
      "  from ipykernel import kernelapp as app\n"
     ]
    },
    {
     "name": "stdout",
     "output_type": "stream",
     "text": [
      "969\n",
      "Processing Vandalism027_x264.mp4\n"
     ]
    },
    {
     "name": "stderr",
     "output_type": "stream",
     "text": [
      "C:\\ProgramData\\Anaconda3\\envs\\py35\\lib\\site-packages\\ipykernel_launcher.py:15: VisibleDeprecationWarning: Creating an ndarray from ragged nested sequences (which is a list-or-tuple of lists-or-tuples-or ndarrays with different lengths or shapes) is deprecated. If you meant to do this, you must specify 'dtype=object' when creating the ndarray\n",
      "  from ipykernel import kernelapp as app\n"
     ]
    },
    {
     "name": "stdout",
     "output_type": "stream",
     "text": [
      "701\n",
      "Processing Vandalism028_x264.mp4\n"
     ]
    },
    {
     "name": "stderr",
     "output_type": "stream",
     "text": [
      "C:\\ProgramData\\Anaconda3\\envs\\py35\\lib\\site-packages\\ipykernel_launcher.py:15: VisibleDeprecationWarning: Creating an ndarray from ragged nested sequences (which is a list-or-tuple of lists-or-tuples-or ndarrays with different lengths or shapes) is deprecated. If you meant to do this, you must specify 'dtype=object' when creating the ndarray\n",
      "  from ipykernel import kernelapp as app\n"
     ]
    },
    {
     "name": "stdout",
     "output_type": "stream",
     "text": [
      "4495\n",
      "Processing Vandalism029_x264.mp4\n"
     ]
    },
    {
     "name": "stderr",
     "output_type": "stream",
     "text": [
      "C:\\ProgramData\\Anaconda3\\envs\\py35\\lib\\site-packages\\ipykernel_launcher.py:15: VisibleDeprecationWarning: Creating an ndarray from ragged nested sequences (which is a list-or-tuple of lists-or-tuples-or ndarrays with different lengths or shapes) is deprecated. If you meant to do this, you must specify 'dtype=object' when creating the ndarray\n",
      "  from ipykernel import kernelapp as app\n"
     ]
    },
    {
     "name": "stdout",
     "output_type": "stream",
     "text": [
      "456\n",
      "Processing Vandalism030_x264.mp4\n"
     ]
    },
    {
     "name": "stderr",
     "output_type": "stream",
     "text": [
      "C:\\ProgramData\\Anaconda3\\envs\\py35\\lib\\site-packages\\ipykernel_launcher.py:15: VisibleDeprecationWarning: Creating an ndarray from ragged nested sequences (which is a list-or-tuple of lists-or-tuples-or ndarrays with different lengths or shapes) is deprecated. If you meant to do this, you must specify 'dtype=object' when creating the ndarray\n",
      "  from ipykernel import kernelapp as app\n"
     ]
    },
    {
     "name": "stdout",
     "output_type": "stream",
     "text": [
      "1437\n",
      "Processing Vandalism031_x264.mp4\n"
     ]
    },
    {
     "name": "stderr",
     "output_type": "stream",
     "text": [
      "C:\\ProgramData\\Anaconda3\\envs\\py35\\lib\\site-packages\\ipykernel_launcher.py:15: VisibleDeprecationWarning: Creating an ndarray from ragged nested sequences (which is a list-or-tuple of lists-or-tuples-or ndarrays with different lengths or shapes) is deprecated. If you meant to do this, you must specify 'dtype=object' when creating the ndarray\n",
      "  from ipykernel import kernelapp as app\n"
     ]
    },
    {
     "name": "stdout",
     "output_type": "stream",
     "text": [
      "1799\n",
      "Processing Vandalism032_x264.mp4\n"
     ]
    },
    {
     "name": "stderr",
     "output_type": "stream",
     "text": [
      "C:\\ProgramData\\Anaconda3\\envs\\py35\\lib\\site-packages\\ipykernel_launcher.py:15: VisibleDeprecationWarning: Creating an ndarray from ragged nested sequences (which is a list-or-tuple of lists-or-tuples-or ndarrays with different lengths or shapes) is deprecated. If you meant to do this, you must specify 'dtype=object' when creating the ndarray\n",
      "  from ipykernel import kernelapp as app\n"
     ]
    },
    {
     "name": "stdout",
     "output_type": "stream",
     "text": [
      "674\n",
      "Processing Vandalism033_x264.mp4\n"
     ]
    },
    {
     "name": "stderr",
     "output_type": "stream",
     "text": [
      "C:\\ProgramData\\Anaconda3\\envs\\py35\\lib\\site-packages\\ipykernel_launcher.py:15: VisibleDeprecationWarning: Creating an ndarray from ragged nested sequences (which is a list-or-tuple of lists-or-tuples-or ndarrays with different lengths or shapes) is deprecated. If you meant to do this, you must specify 'dtype=object' when creating the ndarray\n",
      "  from ipykernel import kernelapp as app\n"
     ]
    },
    {
     "name": "stdout",
     "output_type": "stream",
     "text": [
      "2265\n",
      "Processing Vandalism034_x264.mp4\n"
     ]
    },
    {
     "name": "stderr",
     "output_type": "stream",
     "text": [
      "C:\\ProgramData\\Anaconda3\\envs\\py35\\lib\\site-packages\\ipykernel_launcher.py:15: VisibleDeprecationWarning: Creating an ndarray from ragged nested sequences (which is a list-or-tuple of lists-or-tuples-or ndarrays with different lengths or shapes) is deprecated. If you meant to do this, you must specify 'dtype=object' when creating the ndarray\n",
      "  from ipykernel import kernelapp as app\n"
     ]
    },
    {
     "name": "stdout",
     "output_type": "stream",
     "text": [
      "1756\n",
      "Processing Vandalism035_x264.mp4\n"
     ]
    },
    {
     "name": "stderr",
     "output_type": "stream",
     "text": [
      "C:\\ProgramData\\Anaconda3\\envs\\py35\\lib\\site-packages\\ipykernel_launcher.py:15: VisibleDeprecationWarning: Creating an ndarray from ragged nested sequences (which is a list-or-tuple of lists-or-tuples-or ndarrays with different lengths or shapes) is deprecated. If you meant to do this, you must specify 'dtype=object' when creating the ndarray\n",
      "  from ipykernel import kernelapp as app\n"
     ]
    },
    {
     "name": "stdout",
     "output_type": "stream",
     "text": [
      "1188\n",
      "Processing Vandalism036_x264.mp4\n"
     ]
    },
    {
     "name": "stderr",
     "output_type": "stream",
     "text": [
      "C:\\ProgramData\\Anaconda3\\envs\\py35\\lib\\site-packages\\ipykernel_launcher.py:15: VisibleDeprecationWarning: Creating an ndarray from ragged nested sequences (which is a list-or-tuple of lists-or-tuples-or ndarrays with different lengths or shapes) is deprecated. If you meant to do this, you must specify 'dtype=object' when creating the ndarray\n",
      "  from ipykernel import kernelapp as app\n"
     ]
    },
    {
     "name": "stdout",
     "output_type": "stream",
     "text": [
      "1443\n",
      "Processing Vandalism037_x264.mp4\n"
     ]
    },
    {
     "name": "stderr",
     "output_type": "stream",
     "text": [
      "C:\\ProgramData\\Anaconda3\\envs\\py35\\lib\\site-packages\\ipykernel_launcher.py:15: VisibleDeprecationWarning: Creating an ndarray from ragged nested sequences (which is a list-or-tuple of lists-or-tuples-or ndarrays with different lengths or shapes) is deprecated. If you meant to do this, you must specify 'dtype=object' when creating the ndarray\n",
      "  from ipykernel import kernelapp as app\n"
     ]
    },
    {
     "name": "stdout",
     "output_type": "stream",
     "text": [
      "3019\n",
      "Processing Vandalism038_x264.mp4\n"
     ]
    },
    {
     "name": "stderr",
     "output_type": "stream",
     "text": [
      "C:\\ProgramData\\Anaconda3\\envs\\py35\\lib\\site-packages\\ipykernel_launcher.py:15: VisibleDeprecationWarning: Creating an ndarray from ragged nested sequences (which is a list-or-tuple of lists-or-tuples-or ndarrays with different lengths or shapes) is deprecated. If you meant to do this, you must specify 'dtype=object' when creating the ndarray\n",
      "  from ipykernel import kernelapp as app\n"
     ]
    },
    {
     "name": "stdout",
     "output_type": "stream",
     "text": [
      "2825\n",
      "Processing Vandalism039_x264.mp4\n"
     ]
    },
    {
     "name": "stderr",
     "output_type": "stream",
     "text": [
      "C:\\ProgramData\\Anaconda3\\envs\\py35\\lib\\site-packages\\ipykernel_launcher.py:15: VisibleDeprecationWarning: Creating an ndarray from ragged nested sequences (which is a list-or-tuple of lists-or-tuples-or ndarrays with different lengths or shapes) is deprecated. If you meant to do this, you must specify 'dtype=object' when creating the ndarray\n",
      "  from ipykernel import kernelapp as app\n"
     ]
    },
    {
     "name": "stdout",
     "output_type": "stream",
     "text": [
      "899\n",
      "Processing Vandalism040_x264.mp4\n"
     ]
    },
    {
     "name": "stderr",
     "output_type": "stream",
     "text": [
      "C:\\ProgramData\\Anaconda3\\envs\\py35\\lib\\site-packages\\ipykernel_launcher.py:15: VisibleDeprecationWarning: Creating an ndarray from ragged nested sequences (which is a list-or-tuple of lists-or-tuples-or ndarrays with different lengths or shapes) is deprecated. If you meant to do this, you must specify 'dtype=object' when creating the ndarray\n",
      "  from ipykernel import kernelapp as app\n"
     ]
    },
    {
     "name": "stdout",
     "output_type": "stream",
     "text": [
      "1037\n",
      "Processing Vandalism041_x264.mp4\n"
     ]
    },
    {
     "name": "stderr",
     "output_type": "stream",
     "text": [
      "C:\\ProgramData\\Anaconda3\\envs\\py35\\lib\\site-packages\\ipykernel_launcher.py:15: VisibleDeprecationWarning: Creating an ndarray from ragged nested sequences (which is a list-or-tuple of lists-or-tuples-or ndarrays with different lengths or shapes) is deprecated. If you meant to do this, you must specify 'dtype=object' when creating the ndarray\n",
      "  from ipykernel import kernelapp as app\n"
     ]
    },
    {
     "name": "stdout",
     "output_type": "stream",
     "text": [
      "4868\n",
      "Processing Vandalism042_x264.mp4\n"
     ]
    },
    {
     "name": "stderr",
     "output_type": "stream",
     "text": [
      "C:\\ProgramData\\Anaconda3\\envs\\py35\\lib\\site-packages\\ipykernel_launcher.py:15: VisibleDeprecationWarning: Creating an ndarray from ragged nested sequences (which is a list-or-tuple of lists-or-tuples-or ndarrays with different lengths or shapes) is deprecated. If you meant to do this, you must specify 'dtype=object' when creating the ndarray\n",
      "  from ipykernel import kernelapp as app\n"
     ]
    },
    {
     "name": "stdout",
     "output_type": "stream",
     "text": [
      "3596\n",
      "Processing Vandalism043_x264.mp4\n"
     ]
    },
    {
     "name": "stderr",
     "output_type": "stream",
     "text": [
      "C:\\ProgramData\\Anaconda3\\envs\\py35\\lib\\site-packages\\ipykernel_launcher.py:15: VisibleDeprecationWarning: Creating an ndarray from ragged nested sequences (which is a list-or-tuple of lists-or-tuples-or ndarrays with different lengths or shapes) is deprecated. If you meant to do this, you must specify 'dtype=object' when creating the ndarray\n",
      "  from ipykernel import kernelapp as app\n"
     ]
    },
    {
     "name": "stdout",
     "output_type": "stream",
     "text": [
      "3243\n",
      "Processing Vandalism044_x264.mp4\n"
     ]
    },
    {
     "name": "stderr",
     "output_type": "stream",
     "text": [
      "C:\\ProgramData\\Anaconda3\\envs\\py35\\lib\\site-packages\\ipykernel_launcher.py:15: VisibleDeprecationWarning: Creating an ndarray from ragged nested sequences (which is a list-or-tuple of lists-or-tuples-or ndarrays with different lengths or shapes) is deprecated. If you meant to do this, you must specify 'dtype=object' when creating the ndarray\n",
      "  from ipykernel import kernelapp as app\n"
     ]
    },
    {
     "name": "stdout",
     "output_type": "stream",
     "text": [
      "4605\n",
      "Processing Vandalism045_x264.mp4\n"
     ]
    },
    {
     "name": "stderr",
     "output_type": "stream",
     "text": [
      "C:\\ProgramData\\Anaconda3\\envs\\py35\\lib\\site-packages\\ipykernel_launcher.py:15: VisibleDeprecationWarning: Creating an ndarray from ragged nested sequences (which is a list-or-tuple of lists-or-tuples-or ndarrays with different lengths or shapes) is deprecated. If you meant to do this, you must specify 'dtype=object' when creating the ndarray\n",
      "  from ipykernel import kernelapp as app\n"
     ]
    },
    {
     "name": "stdout",
     "output_type": "stream",
     "text": [
      "4358\n",
      "Processing Vandalism046_x264.mp4\n"
     ]
    },
    {
     "name": "stderr",
     "output_type": "stream",
     "text": [
      "C:\\ProgramData\\Anaconda3\\envs\\py35\\lib\\site-packages\\ipykernel_launcher.py:15: VisibleDeprecationWarning: Creating an ndarray from ragged nested sequences (which is a list-or-tuple of lists-or-tuples-or ndarrays with different lengths or shapes) is deprecated. If you meant to do this, you must specify 'dtype=object' when creating the ndarray\n",
      "  from ipykernel import kernelapp as app\n"
     ]
    },
    {
     "name": "stdout",
     "output_type": "stream",
     "text": [
      "2099\n",
      "Processing Vandalism047_x264.mp4\n"
     ]
    },
    {
     "name": "stderr",
     "output_type": "stream",
     "text": [
      "C:\\ProgramData\\Anaconda3\\envs\\py35\\lib\\site-packages\\ipykernel_launcher.py:15: VisibleDeprecationWarning: Creating an ndarray from ragged nested sequences (which is a list-or-tuple of lists-or-tuples-or ndarrays with different lengths or shapes) is deprecated. If you meant to do this, you must specify 'dtype=object' when creating the ndarray\n",
      "  from ipykernel import kernelapp as app\n"
     ]
    },
    {
     "name": "stdout",
     "output_type": "stream",
     "text": [
      "2483\n",
      "Processing Vandalism048_x264.mp4\n"
     ]
    },
    {
     "name": "stderr",
     "output_type": "stream",
     "text": [
      "C:\\ProgramData\\Anaconda3\\envs\\py35\\lib\\site-packages\\ipykernel_launcher.py:15: VisibleDeprecationWarning: Creating an ndarray from ragged nested sequences (which is a list-or-tuple of lists-or-tuples-or ndarrays with different lengths or shapes) is deprecated. If you meant to do this, you must specify 'dtype=object' when creating the ndarray\n",
      "  from ipykernel import kernelapp as app\n"
     ]
    },
    {
     "name": "stdout",
     "output_type": "stream",
     "text": [
      "7183\n",
      "Processing Vandalism049_x264.mp4\n"
     ]
    },
    {
     "name": "stderr",
     "output_type": "stream",
     "text": [
      "C:\\ProgramData\\Anaconda3\\envs\\py35\\lib\\site-packages\\ipykernel_launcher.py:15: VisibleDeprecationWarning: Creating an ndarray from ragged nested sequences (which is a list-or-tuple of lists-or-tuples-or ndarrays with different lengths or shapes) is deprecated. If you meant to do this, you must specify 'dtype=object' when creating the ndarray\n",
      "  from ipykernel import kernelapp as app\n"
     ]
    },
    {
     "name": "stdout",
     "output_type": "stream",
     "text": [
      "7999\n",
      "Processing Vandalism050_x264.mp4\n"
     ]
    },
    {
     "name": "stderr",
     "output_type": "stream",
     "text": [
      "C:\\ProgramData\\Anaconda3\\envs\\py35\\lib\\site-packages\\ipykernel_launcher.py:15: VisibleDeprecationWarning: Creating an ndarray from ragged nested sequences (which is a list-or-tuple of lists-or-tuples-or ndarrays with different lengths or shapes) is deprecated. If you meant to do this, you must specify 'dtype=object' when creating the ndarray\n",
      "  from ipykernel import kernelapp as app\n"
     ]
    },
    {
     "name": "stdout",
     "output_type": "stream",
     "text": [
      "899\n"
     ]
    }
   ],
   "source": [
    "print(\"Processing abnormal videos in chunks...\")\n",
    "for vid_name1 in chunk:\n",
    "    for vid_name in vid_name1:\n",
    "        print(\"Processing {}\".format(vid_name))\n",
    "        vid_path = os.path.join(abnormal_videos_path, vid_name)\n",
    "        feats_path = os.path.join(\n",
    "            raw_abnormal_train_features_c3d, vid_name[:-9] + \".npy\")\n",
    "\n",
    "        clips, frames = get_video_clips(vid_path, c3d_frame_count)\n",
    "        print(frames)\n",
    "        if frames > 8000:\n",
    "            continue\n",
    "        # Remove last clip if number of frames is not equal to 16\n",
    "        if frames % 16 != 0:\n",
    "            clips = clips[:-1]\n",
    "\n",
    "        prep_clips = [preprocess_input_c3d(np.array(clip)) for clip in clips]\n",
    "        prep_clips = np.vstack(prep_clips)\n",
    "\n",
    "        features = feature_extractor.predict(prep_clips)\n",
    "        del prep_clips\n",
    "        features = sklearn.preprocessing.normalize(features, axis=1)   \n",
    "        with open(feats_path, \"wb\") as f:\n",
    "            np.save(f, features)\n",
    "        del features\n",
    "        gc.collect(generation=2)"
   ]
  },
  {
   "cell_type": "code",
   "execution_count": 31,
   "metadata": {
    "id": "ERjzJ91fhwcD"
   },
   "outputs": [
    {
     "name": "stdout",
     "output_type": "stream",
     "text": [
      "Processing Abuse001.npy\n",
      "Processing Abuse002.npy\n",
      "Processing Abuse003.npy\n",
      "Processing Abuse005.npy\n",
      "Processing Abuse006.npy\n",
      "Processing Abuse007.npy\n",
      "Processing Abuse009.npy\n",
      "Processing Abuse010.npy\n",
      "Processing Abuse011.npy\n",
      "Processing Abuse012.npy\n",
      "Processing Abuse013.npy\n",
      "Processing Abuse014.npy\n",
      "Processing Abuse015.npy\n",
      "Processing Abuse016.npy\n",
      "Processing Abuse017.npy\n",
      "Processing Abuse018.npy\n",
      "Processing Abuse019.npy\n",
      "Processing Abuse020.npy\n",
      "Processing Abuse021.npy\n",
      "Processing Abuse022.npy\n",
      "Processing Abuse023.npy\n",
      "Processing Abuse024.npy\n",
      "Processing Abuse025.npy\n",
      "Processing Abuse026.npy\n",
      "Processing Abuse027.npy\n",
      "Processing Abuse028.npy\n",
      "Processing Abuse029.npy\n",
      "Video Abuse029.npy too short\n",
      "Processing Abuse030.npy\n",
      "Processing Abuse031.npy\n",
      "Processing Abuse032.npy\n",
      "Processing Abuse033.npy\n",
      "Processing Abuse034.npy\n",
      "Processing Abuse035.npy\n",
      "Processing Abuse036.npy\n",
      "Processing Abuse037.npy\n",
      "Processing Abuse038.npy\n",
      "Processing Abuse040.npy\n",
      "Processing Abuse041.npy\n",
      "Processing Abuse043.npy\n",
      "Processing Abuse044.npy\n",
      "Processing Abuse045.npy\n",
      "Processing Abuse046.npy\n",
      "Processing Abuse047.npy\n",
      "Processing Abuse048.npy\n",
      "Processing Abuse049.npy\n",
      "Processing Abuse050.npy\n",
      "Processing Arrest001.npy\n",
      "Processing Arrest002.npy\n",
      "Processing Arrest003.npy\n",
      "Processing Arrest004.npy\n",
      "Processing Arrest005.npy\n",
      "Processing Arrest006.npy\n",
      "Processing Arrest007.npy\n",
      "Processing Arrest008.npy\n",
      "Processing Arrest009.npy\n",
      "Processing Arrest010.npy\n",
      "Processing Arrest011.npy\n",
      "Processing Arrest013.npy\n",
      "Processing Arrest014.npy\n",
      "Processing Arrest015.npy\n",
      "Processing Arrest017.npy\n",
      "Processing Arrest018.npy\n",
      "Processing Arrest019.npy\n",
      "Processing Arrest020.npy\n",
      "Processing Arrest022.npy\n",
      "Processing Arrest023.npy\n",
      "Processing Arrest024.npy\n",
      "Processing Arrest025.npy\n",
      "Processing Arrest026.npy\n",
      "Processing Arrest027.npy\n",
      "Processing Arrest028.npy\n",
      "Processing Arrest029.npy\n",
      "Processing Arrest031.npy\n",
      "Processing Arrest032.npy\n",
      "Processing Arrest033.npy\n",
      "Processing Arrest035.npy\n",
      "Processing Arrest036.npy\n",
      "Processing Arrest037.npy\n",
      "Processing Arrest038.npy\n",
      "Processing Arrest040.npy\n",
      "Processing Arrest041.npy\n",
      "Processing Arrest042.npy\n",
      "Processing Arrest044.npy\n",
      "Processing Arrest046.npy\n",
      "Processing Arrest048.npy\n",
      "Processing Arrest050.npy\n",
      "Processing Arson003.npy\n",
      "Processing Arson005.npy\n",
      "Processing Arson009.npy\n",
      "Processing Arson010.npy\n",
      "Processing Arson011.npy\n",
      "Processing Arson013.npy\n",
      "Processing Arson014.npy\n",
      "Processing Arson021.npy\n",
      "Processing Arson024.npy\n",
      "Processing Arson034.npy\n",
      "Processing Arson037.npy\n",
      "Processing Arson041.npy\n",
      "Processing Arson045.npy\n",
      "Processing Arson048.npy\n",
      "Video Arson048.npy too short\n",
      "Processing Assault001.npy\n",
      "Processing Assault002.npy\n",
      "Processing Assault003.npy\n",
      "Processing Assault004.npy\n",
      "Processing Assault005.npy\n",
      "Processing Assault007.npy\n",
      "Processing Assault008.npy\n",
      "Processing Assault009.npy\n",
      "Processing Assault011.npy\n",
      "Processing Assault012.npy\n",
      "Processing Assault013.npy\n",
      "Processing Assault014.npy\n",
      "Processing Assault015.npy\n",
      "Processing Assault016.npy\n",
      "Processing Assault017.npy\n",
      "Processing Assault018.npy\n",
      "Video Assault018.npy too short\n",
      "Processing Assault019.npy\n",
      "Processing Assault020.npy\n",
      "Video Assault020.npy too short\n",
      "Processing Assault022.npy\n",
      "Processing Assault023.npy\n",
      "Processing Assault024.npy\n",
      "Video Assault024.npy too short\n",
      "Processing Assault025.npy\n",
      "Processing Assault026.npy\n",
      "Processing Assault027.npy\n",
      "Processing Assault028.npy\n",
      "Processing Assault029.npy\n",
      "Processing Assault030.npy\n",
      "Processing Assault031.npy\n",
      "Processing Assault032.npy\n",
      "Processing Assault033.npy\n",
      "Processing Assault034.npy\n",
      "Processing Assault035.npy\n",
      "Processing Assault036.npy\n",
      "Processing Assault037.npy\n",
      "Processing Assault038.npy\n",
      "Video Assault038.npy too short\n",
      "Processing Assault039.npy\n",
      "Video Assault039.npy too short\n",
      "Processing Assault040.npy\n",
      "Processing Assault041.npy\n",
      "Processing Assault044.npy\n",
      "Processing Assault045.npy\n",
      "Processing Assault046.npy\n",
      "Processing Assault047.npy\n",
      "Processing Assault048.npy\n",
      "Processing Assault049.npy\n",
      "Processing Assault050.npy\n",
      "Processing Assault051.npy\n",
      "Processing Assault052.npy\n",
      "Processing Burglary001.npy\n",
      "Processing Burglary002.npy\n",
      "Processing Burglary003.npy\n",
      "Processing Burglary004.npy\n",
      "Processing Burglary005.npy\n",
      "Processing Burglary007.npy\n",
      "Processing Burglary008.npy\n",
      "Processing Burglary009.npy\n",
      "Processing Burglary010.npy\n",
      "Processing Burglary011.npy\n",
      "Processing Burglary012.npy\n",
      "Processing Burglary013.npy\n",
      "Processing Burglary014.npy\n",
      "Processing Burglary015.npy\n",
      "Processing Burglary016.npy\n",
      "Processing Burglary017.npy\n",
      "Processing Burglary018.npy\n",
      "Processing Burglary019.npy\n",
      "Processing Burglary020.npy\n",
      "Processing Burglary021.npy\n",
      "Processing Burglary022.npy\n",
      "Processing Burglary024.npy\n",
      "Processing Burglary025.npy\n",
      "Processing Burglary026.npy\n",
      "Processing Burglary027.npy\n",
      "Processing Burglary028.npy\n",
      "Processing Burglary029.npy\n",
      "Processing Burglary030.npy\n",
      "Processing Burglary031.npy\n",
      "Processing Burglary033.npy\n",
      "Processing Burglary034.npy\n",
      "Processing Burglary035.npy\n",
      "Processing Burglary036.npy\n",
      "Processing Burglary037.npy\n",
      "Processing Burglary038.npy\n",
      "Processing Burglary040.npy\n",
      "Processing Burglary041.npy\n",
      "Processing Burglary042.npy\n",
      "Processing Burglary043.npy\n",
      "Processing Burglary044.npy\n",
      "Processing Burglary046.npy\n",
      "Processing Burglary047.npy\n",
      "Processing Burglary048.npy\n",
      "Processing Burglary050.npy\n",
      "Processing Burglary051.npy\n",
      "Processing Burglary053.npy\n",
      "Processing Burglary054.npy\n",
      "Video Burglary054.npy too short\n",
      "Processing Burglary055.npy\n",
      "Processing Burglary056.npy\n",
      "Processing Burglary057.npy\n",
      "Processing Burglary059.npy\n",
      "Video Burglary059.npy too short\n",
      "Processing Burglary060.npy\n",
      "Processing Burglary063.npy\n",
      "Processing Burglary066.npy\n",
      "Processing Burglary067.npy\n",
      "Processing Burglary068.npy\n",
      "Processing Burglary069.npy\n",
      "Processing Burglary070.npy\n",
      "Processing Burglary071.npy\n",
      "Processing Burglary072.npy\n",
      "Processing Burglary073.npy\n",
      "Processing Burglary074.npy\n",
      "Processing Burglary077.npy\n",
      "Processing Burglary078.npy\n",
      "Video Burglary078.npy too short\n",
      "Processing Burglary080.npy\n",
      "Processing Burglary081.npy\n",
      "Video Burglary081.npy too short\n",
      "Processing Burglary082.npy\n",
      "Processing Burglary083.npy\n",
      "Processing Burglary084.npy\n",
      "Processing Burglary085.npy\n",
      "Processing Burglary086.npy\n",
      "Processing Burglary087.npy\n",
      "Processing Burglary088.npy\n",
      "Processing Burglary089.npy\n",
      "Processing Burglary090.npy\n",
      "Processing Burglary091.npy\n",
      "Processing Burglary092.npy\n",
      "Processing Burglary093.npy\n",
      "Processing Burglary094.npy\n",
      "Processing Burglary096.npy\n",
      "Processing Burglary097.npy\n",
      "Video Burglary097.npy too short\n",
      "Processing Burglary098.npy\n",
      "Processing Burglary099.npy\n",
      "Processing Burglary100.npy\n",
      "Processing Explosion004.npy\n",
      "Processing Explosion005.npy\n",
      "Processing Explosion006.npy\n",
      "Processing Explosion008.npy\n",
      "Processing Explosion009.npy\n",
      "Processing Explosion014.npy\n",
      "Processing Explosion015.npy\n",
      "Processing Explosion016.npy\n",
      "Processing Explosion017.npy\n",
      "Processing Explosion018.npy\n",
      "Processing Explosion020.npy\n",
      "Processing Explosion022.npy\n",
      "Processing Explosion023.npy\n",
      "Processing Explosion024.npy\n",
      "Processing Explosion025.npy\n",
      "Video Explosion025.npy too short\n",
      "Processing Explosion027.npy\n",
      "Processing Explosion029.npy\n",
      "Processing Explosion030.npy\n",
      "Processing Explosion032.npy\n",
      "Processing Explosion034.npy\n",
      "Video Explosion034.npy too short\n",
      "Processing Explosion036.npy\n",
      "Processing Explosion038.npy\n",
      "Processing Explosion042.npy\n",
      "Processing Explosion043.npy\n",
      "Processing Explosion044.npy\n",
      "Processing Explosion047.npy\n",
      "Processing Explosion048.npy\n",
      "Video Explosion048.npy too short\n",
      "Processing Explosion052.npy\n",
      "Processing Fighting002.npy\n",
      "Processing Fighting003.npy\n",
      "Processing Fighting005.npy\n",
      "Processing Fighting006.npy\n",
      "Processing Fighting007.npy\n",
      "Processing Fighting009.npy\n",
      "Processing Fighting010.npy\n",
      "Processing Fighting012.npy\n",
      "Processing Fighting013.npy\n",
      "Processing Fighting014.npy\n",
      "Processing Fighting016.npy\n",
      "Processing Fighting017.npy\n",
      "Processing Fighting018.npy\n",
      "Processing Fighting019.npy\n",
      "Processing Fighting020.npy\n",
      "Processing Fighting021.npy\n",
      "Processing Fighting022.npy\n",
      "Processing Fighting023.npy\n",
      "Processing Fighting024.npy\n",
      "Processing Fighting025.npy\n",
      "Processing Fighting026.npy\n",
      "Processing Fighting027.npy\n",
      "Processing Fighting028.npy\n",
      "Processing Fighting029.npy\n",
      "Processing Fighting030.npy\n",
      "Processing Fighting032.npy\n",
      "Processing Fighting033.npy\n",
      "Processing Fighting034.npy\n",
      "Processing Fighting035.npy\n",
      "Processing Fighting036.npy\n",
      "Processing Fighting037.npy\n",
      "Processing Fighting038.npy\n",
      "Processing Fighting039.npy\n",
      "Processing Fighting040.npy\n",
      "Processing Fighting042.npy\n",
      "Processing Fighting043.npy\n",
      "Processing Fighting044.npy\n",
      "Processing Fighting045.npy\n",
      "Processing Fighting046.npy\n",
      "Processing Fighting047.npy\n",
      "Processing Fighting048.npy\n",
      "Processing Fighting049.npy\n",
      "Processing Fighting051.npy\n",
      "Processing RoadAccidents001.npy\n",
      "Processing RoadAccidents002.npy\n",
      "Video RoadAccidents002.npy too short\n",
      "Processing RoadAccidents003.npy\n",
      "Processing RoadAccidents004.npy\n",
      "Video RoadAccidents004.npy too short\n",
      "Processing RoadAccidents005.npy\n",
      "Video RoadAccidents005.npy too short\n",
      "Processing RoadAccidents006.npy\n",
      "Processing RoadAccidents007.npy\n",
      "Processing RoadAccidents008.npy\n",
      "Processing RoadAccidents009.npy\n",
      "Processing RoadAccidents010.npy\n",
      "Processing RoadAccidents011.npy\n",
      "Processing RoadAccidents012.npy\n",
      "Video RoadAccidents012.npy too short\n",
      "Processing RoadAccidents013.npy\n",
      "Processing RoadAccidents015.npy\n",
      "Processing RoadAccidents016.npy\n",
      "Processing RoadAccidents017.npy\n",
      "Video RoadAccidents017.npy too short\n",
      "Processing RoadAccidents018.npy\n",
      "Processing RoadAccidents019.npy\n",
      "Processing RoadAccidents020.npy\n",
      "Processing RoadAccidents021.npy\n",
      "Video RoadAccidents021.npy too short\n",
      "Processing RoadAccidents022.npy\n",
      "Processing RoadAccidents023.npy\n",
      "Processing RoadAccidents024.npy\n",
      "Processing RoadAccidents025.npy\n",
      "Processing RoadAccidents026.npy\n",
      "Processing RoadAccidents027.npy\n",
      "Video RoadAccidents027.npy too short\n",
      "Processing RoadAccidents028.npy\n",
      "Processing RoadAccidents029.npy\n",
      "Processing RoadAccidents030.npy\n",
      "Processing RoadAccidents031.npy\n",
      "Processing RoadAccidents032.npy\n",
      "Processing RoadAccidents033.npy\n",
      "Processing RoadAccidents034.npy\n",
      "Processing RoadAccidents035.npy\n",
      "Video RoadAccidents035.npy too short\n",
      "Processing RoadAccidents036.npy\n",
      "Processing RoadAccidents037.npy\n",
      "Processing RoadAccidents038.npy\n",
      "Video RoadAccidents038.npy too short\n",
      "Processing RoadAccidents039.npy\n",
      "Video RoadAccidents039.npy too short\n",
      "Processing RoadAccidents040.npy\n",
      "Processing RoadAccidents041.npy\n",
      "Video RoadAccidents041.npy too short\n",
      "Processing RoadAccidents042.npy\n",
      "Processing RoadAccidents043.npy\n",
      "Video RoadAccidents043.npy too short\n",
      "Processing RoadAccidents044.npy\n",
      "Video RoadAccidents044.npy too short\n",
      "Processing RoadAccidents046.npy\n",
      "Processing RoadAccidents047.npy\n",
      "Video RoadAccidents047.npy too short\n",
      "Processing RoadAccidents048.npy\n",
      "Processing RoadAccidents049.npy\n",
      "Processing RoadAccidents050.npy\n",
      "Processing RoadAccidents051.npy\n",
      "Video RoadAccidents051.npy too short\n",
      "Processing RoadAccidents052.npy\n",
      "Video RoadAccidents052.npy too short\n",
      "Processing RoadAccidents053.npy\n",
      "Processing RoadAccidents054.npy\n",
      "Processing RoadAccidents055.npy\n",
      "Processing RoadAccidents056.npy\n",
      "Processing RoadAccidents057.npy\n",
      "Processing RoadAccidents058.npy\n",
      "Processing RoadAccidents059.npy\n",
      "Processing RoadAccidents060.npy\n",
      "Processing RoadAccidents061.npy\n",
      "Processing RoadAccidents062.npy\n",
      "Processing RoadAccidents063.npy\n",
      "Processing RoadAccidents064.npy\n",
      "Processing RoadAccidents065.npy\n",
      "Video RoadAccidents065.npy too short\n",
      "Processing RoadAccidents066.npy\n",
      "Processing RoadAccidents067.npy\n",
      "Processing RoadAccidents068.npy\n",
      "Processing RoadAccidents069.npy\n",
      "Video RoadAccidents069.npy too short\n",
      "Processing RoadAccidents070.npy\n",
      "Processing RoadAccidents071.npy\n",
      "Processing RoadAccidents072.npy\n",
      "Processing RoadAccidents073.npy\n",
      "Processing RoadAccidents074.npy\n",
      "Processing RoadAccidents075.npy\n",
      "Video RoadAccidents075.npy too short\n",
      "Processing RoadAccidents076.npy\n",
      "Processing RoadAccidents077.npy\n",
      "Processing RoadAccidents078.npy\n",
      "Processing RoadAccidents079.npy\n",
      "Processing RoadAccidents080.npy\n",
      "Processing RoadAccidents081.npy\n",
      "Processing RoadAccidents082.npy\n",
      "Processing RoadAccidents083.npy\n",
      "Processing RoadAccidents084.npy\n",
      "Processing RoadAccidents085.npy\n",
      "Processing RoadAccidents086.npy\n",
      "Processing RoadAccidents087.npy\n",
      "Processing RoadAccidents088.npy\n",
      "Processing RoadAccidents089.npy\n",
      "Processing RoadAccidents090.npy\n",
      "Processing RoadAccidents091.npy\n",
      "Processing RoadAccidents092.npy\n",
      "Processing RoadAccidents093.npy\n",
      "Processing RoadAccidents094.npy\n",
      "Processing RoadAccidents095.npy\n",
      "Processing RoadAccidents096.npy\n",
      "Processing RoadAccidents097.npy\n",
      "Processing RoadAccidents098.npy\n",
      "Processing RoadAccidents099.npy\n",
      "Processing RoadAccidents100.npy\n",
      "Processing RoadAccidents101.npy\n",
      "Video RoadAccidents101.npy too short\n",
      "Processing RoadAccidents102.npy\n",
      "Video RoadAccidents102.npy too short\n",
      "Processing RoadAccidents103.npy\n",
      "Processing RoadAccidents104.npy\n",
      "Processing RoadAccidents105.npy\n",
      "Processing RoadAccidents106.npy\n",
      "Processing RoadAccidents107.npy\n",
      "Processing RoadAccidents108.npy\n",
      "Processing RoadAccidents109.npy\n",
      "Processing RoadAccidents110.npy\n",
      "Video RoadAccidents110.npy too short\n",
      "Processing RoadAccidents111.npy\n",
      "Processing RoadAccidents112.npy\n",
      "Processing RoadAccidents113.npy\n",
      "Processing RoadAccidents114.npy\n",
      "Processing RoadAccidents115.npy\n",
      "Processing RoadAccidents116.npy\n",
      "Processing RoadAccidents117.npy\n",
      "Processing RoadAccidents118.npy\n",
      "Processing RoadAccidents119.npy\n",
      "Processing RoadAccidents120.npy\n",
      "Processing RoadAccidents121.npy\n",
      "Processing RoadAccidents122.npy\n",
      "Processing RoadAccidents123.npy\n",
      "Processing RoadAccidents124.npy\n",
      "Processing RoadAccidents125.npy\n",
      "Processing RoadAccidents126.npy\n",
      "Processing RoadAccidents127.npy\n",
      "Processing RoadAccidents128.npy\n",
      "Processing RoadAccidents129.npy\n",
      "Video RoadAccidents129.npy too short\n",
      "Processing RoadAccidents130.npy\n",
      "Processing RoadAccidents131.npy\n",
      "Processing RoadAccidents132.npy\n",
      "Processing RoadAccidents133.npy\n",
      "Processing RoadAccidents134.npy\n",
      "Video RoadAccidents134.npy too short\n",
      "Processing RoadAccidents135.npy\n",
      "Processing RoadAccidents136.npy\n",
      "Processing RoadAccidents137.npy\n",
      "Processing RoadAccidents138.npy\n",
      "Processing RoadAccidents139.npy\n",
      "Processing RoadAccidents140.npy\n",
      "Processing RoadAccidents141.npy\n",
      "Processing RoadAccidents142.npy\n",
      "Processing RoadAccidents143.npy\n",
      "Processing RoadAccidents144.npy\n",
      "Processing RoadAccidents145.npy\n",
      "Processing RoadAccidents146.npy\n",
      "Processing RoadAccidents149.npy\n",
      "Processing RoadAccidents150.npy\n",
      "Processing RoadAccidents151.npy\n",
      "Processing Robbery001.npy\n",
      "Processing Robbery002.npy\n",
      "Processing Robbery003.npy\n",
      "Processing Robbery004.npy\n",
      "Processing Robbery005.npy\n",
      "Processing Robbery006.npy\n",
      "Processing Robbery007.npy\n",
      "Processing Robbery008.npy\n",
      "Processing Robbery009.npy\n",
      "Processing Robbery010.npy\n",
      "Processing Robbery011.npy\n",
      "Processing Robbery012.npy\n",
      "Processing Robbery013.npy\n",
      "Processing Robbery015.npy\n",
      "Processing Robbery016.npy\n",
      "Processing Robbery017.npy\n",
      "Processing Robbery018.npy\n",
      "Processing Robbery019.npy\n",
      "Processing Robbery020.npy\n",
      "Processing Robbery022.npy\n",
      "Processing Robbery023.npy\n",
      "Processing Robbery024.npy\n",
      "Processing Robbery025.npy\n",
      "Processing Robbery027.npy\n",
      "Processing Robbery028.npy\n",
      "Processing Robbery029.npy\n",
      "Processing Robbery030.npy\n",
      "Processing Robbery031.npy\n",
      "Processing Robbery032.npy\n",
      "Processing Robbery033.npy\n",
      "Processing Robbery034.npy\n",
      "Processing Robbery035.npy\n",
      "Processing Robbery036.npy\n",
      "Processing Robbery038.npy\n",
      "Processing Robbery039.npy\n",
      "Processing Robbery040.npy\n",
      "Processing Robbery041.npy\n",
      "Processing Robbery042.npy\n",
      "Processing Robbery043.npy\n",
      "Processing Robbery044.npy\n",
      "Video Robbery044.npy too short\n",
      "Processing Robbery045.npy\n",
      "Processing Robbery046.npy\n",
      "Processing Robbery047.npy\n",
      "Processing Robbery048.npy\n",
      "Processing Robbery049.npy\n",
      "Processing Robbery050.npy\n",
      "Processing Robbery051.npy\n",
      "Processing Robbery052.npy\n",
      "Processing Robbery053.npy\n",
      "Processing Robbery054.npy\n",
      "Processing Robbery056.npy\n",
      "Processing Robbery057.npy\n",
      "Processing Robbery058.npy\n",
      "Processing Robbery060.npy\n",
      "Processing Robbery061.npy\n",
      "Processing Robbery062.npy\n",
      "Processing Robbery063.npy\n",
      "Processing Robbery064.npy\n",
      "Processing Robbery065.npy\n",
      "Processing Robbery066.npy\n",
      "Processing Robbery067.npy\n",
      "Processing Robbery068.npy\n",
      "Video Robbery068.npy too short\n",
      "Processing Robbery069.npy\n",
      "Processing Robbery070.npy\n",
      "Processing Robbery071.npy\n",
      "Processing Robbery072.npy\n",
      "Processing Robbery073.npy\n",
      "Processing Robbery074.npy\n",
      "Processing Robbery075.npy\n",
      "Processing Robbery076.npy\n",
      "Processing Robbery077.npy\n",
      "Processing Robbery078.npy\n",
      "Processing Robbery079.npy\n",
      "Processing Robbery080.npy\n",
      "Processing Robbery081.npy\n",
      "Processing Robbery082.npy\n",
      "Processing Robbery083.npy\n",
      "Processing Robbery084.npy\n",
      "Processing Robbery085.npy\n",
      "Processing Robbery086.npy\n",
      "Processing Robbery087.npy\n",
      "Processing Robbery088.npy\n",
      "Processing Robbery089.npy\n",
      "Video Robbery089.npy too short\n",
      "Processing Robbery090.npy\n",
      "Processing Robbery091.npy\n",
      "Processing Robbery092.npy\n",
      "Processing Robbery093.npy\n",
      "Processing Robbery094.npy\n",
      "Processing Robbery095.npy\n",
      "Processing Robbery096.npy\n",
      "Processing Robbery097.npy\n",
      "Processing Robbery099.npy\n",
      "Processing Robbery100.npy\n",
      "Processing Robbery101.npy\n",
      "Processing Robbery102.npy\n",
      "Processing Robbery103.npy\n",
      "Processing Robbery104.npy\n",
      "Processing Robbery105.npy\n",
      "Processing Robbery106.npy\n",
      "Processing Robbery107.npy\n",
      "Processing Robbery108.npy\n",
      "Processing Robbery109.npy\n",
      "Processing Robbery110.npy\n",
      "Processing Robbery111.npy\n",
      "Processing Robbery112.npy\n",
      "Processing Robbery113.npy\n",
      "Processing Robbery114.npy\n",
      "Processing Robbery115.npy\n",
      "Processing Robbery116.npy\n",
      "Video Robbery116.npy too short\n",
      "Processing Robbery117.npy\n",
      "Processing Robbery118.npy\n",
      "Processing Robbery119.npy\n",
      "Processing Robbery120.npy\n",
      "Processing Robbery121.npy\n",
      "Processing Robbery122.npy\n",
      "Processing Robbery123.npy\n",
      "Processing Robbery125.npy\n",
      "Processing Robbery126.npy\n",
      "Processing Robbery127.npy\n",
      "Processing Robbery128.npy\n",
      "Processing Robbery129.npy\n",
      "Processing Robbery130.npy\n",
      "Processing Robbery131.npy\n",
      "Processing Robbery132.npy\n",
      "Processing Robbery133.npy\n",
      "Processing Robbery134.npy\n",
      "Processing Robbery135.npy\n",
      "Processing Robbery136.npy\n",
      "Processing Robbery137.npy\n",
      "Processing Robbery138.npy\n",
      "Processing Robbery139.npy\n",
      "Processing Robbery140.npy\n",
      "Processing Robbery141.npy\n",
      "Processing Robbery142.npy\n",
      "Processing Robbery143.npy\n",
      "Processing Robbery144.npy\n",
      "Processing Robbery145.npy\n",
      "Processing Robbery146.npy\n",
      "Processing Robbery147.npy\n",
      "Processing Robbery148.npy\n",
      "Processing Robbery149.npy\n",
      "Processing Robbery150.npy\n",
      "Processing Shooting001.npy\n",
      "Video Shooting001.npy too short\n",
      "Processing Shooting002.npy\n",
      "Processing Shooting003.npy\n",
      "Processing Shooting004.npy\n",
      "Processing Shooting005.npy\n",
      "Processing Shooting007.npy\n",
      "Processing Shooting008.npy\n",
      "Processing Shooting009.npy\n",
      "Processing Shooting011.npy\n",
      "Processing Shooting012.npy\n",
      "Processing Shooting013.npy\n",
      "Processing Shooting014.npy\n",
      "Processing Shooting015.npy\n",
      "Processing Shooting017.npy\n",
      "Processing Shooting018.npy\n",
      "Processing Shooting019.npy\n",
      "Processing Shooting020.npy\n",
      "Processing Shooting021.npy\n",
      "Processing Shooting022.npy\n",
      "Processing Shooting023.npy\n",
      "Video Shooting023.npy too short\n",
      "Processing Shooting024.npy\n",
      "Processing Shooting025.npy\n",
      "Processing Shooting026.npy\n",
      "Processing Shooting027.npy\n",
      "Processing Shooting028.npy\n",
      "Processing Shooting030.npy\n",
      "Processing Shooting031.npy\n",
      "Processing Shooting033.npy\n",
      "Processing Shooting034.npy\n",
      "Processing Shooting036.npy\n",
      "Processing Shooting037.npy\n",
      "Video Shooting037.npy too short\n",
      "Processing Shooting038.npy\n",
      "Processing Shooting040.npy\n",
      "Processing Shooting041.npy\n",
      "Processing Shooting042.npy\n",
      "Processing Shooting043.npy\n",
      "Processing Shooting044.npy\n",
      "Video Shooting044.npy too short\n",
      "Processing Shooting046.npy\n",
      "Processing Shooting048.npy\n",
      "Processing Shooting050.npy\n",
      "Processing Shooting051.npy\n",
      "Processing Shooting052.npy\n",
      "Processing Shooting053.npy\n",
      "Processing Shooting054.npy\n",
      "Processing Shoplifting001.npy\n",
      "Processing Shoplifting004.npy\n",
      "Processing Shoplifting006.npy\n",
      "Processing Shoplifting010.npy\n",
      "Processing Shoplifting017.npy\n",
      "Video Shoplifting017.npy too short\n",
      "Processing Shoplifting019.npy\n",
      "Processing Shoplifting021.npy\n",
      "Processing Shoplifting022.npy\n",
      "Processing Shoplifting025.npy\n",
      "Processing Shoplifting026.npy\n",
      "Processing Shoplifting027.npy\n",
      "Processing Shoplifting028.npy\n",
      "Processing Shoplifting032.npy\n",
      "Processing Shoplifting036.npy\n",
      "Processing Shoplifting037.npy\n",
      "Processing Shoplifting039.npy\n",
      "Processing Shoplifting045.npy\n",
      "Processing Shoplifting048.npy\n",
      "Processing Shoplifting049.npy\n",
      "Processing Shoplifting052.npy\n",
      "Processing Shoplifting053.npy\n",
      "Processing Stealing002.npy\n",
      "Processing Stealing003.npy\n",
      "Processing Stealing004.npy\n",
      "Processing Stealing006.npy\n",
      "Processing Stealing007.npy\n",
      "Processing Stealing008.npy\n",
      "Processing Stealing009.npy\n",
      "Processing Stealing010.npy\n",
      "Processing Stealing011.npy\n",
      "Processing Stealing012.npy\n",
      "Processing Stealing014.npy\n",
      "Processing Stealing015.npy\n",
      "Processing Stealing016.npy\n",
      "Processing Stealing017.npy\n",
      "Processing Stealing018.npy\n",
      "Processing Stealing019.npy\n",
      "Processing Stealing020.npy\n",
      "Processing Stealing021.npy\n",
      "Processing Stealing022.npy\n",
      "Processing Stealing023.npy\n",
      "Processing Stealing024.npy\n",
      "Processing Stealing026.npy\n",
      "Processing Stealing027.npy\n",
      "Processing Stealing028.npy\n",
      "Processing Stealing029.npy\n",
      "Video Stealing029.npy too short\n",
      "Processing Stealing030.npy\n",
      "Processing Stealing031.npy\n",
      "Processing Stealing032.npy\n",
      "Processing Stealing036.npy\n",
      "Processing Stealing037.npy\n",
      "Processing Stealing042.npy\n",
      "Processing Stealing043.npy\n",
      "Processing Stealing044.npy\n",
      "Processing Stealing047.npy\n",
      "Processing Stealing048.npy\n",
      "Processing Stealing049.npy\n",
      "Processing Stealing050.npy\n",
      "Processing Stealing051.npy\n",
      "Processing Stealing052.npy\n",
      "Processing Stealing054.npy\n",
      "Processing Stealing055.npy\n",
      "Processing Stealing057.npy\n",
      "Processing Stealing058.npy\n",
      "Processing Stealing059.npy\n",
      "Processing Stealing060.npy\n",
      "Processing Stealing061.npy\n",
      "Processing Stealing062.npy\n",
      "Processing Stealing065.npy\n",
      "Processing Stealing066.npy\n",
      "Processing Stealing067.npy\n",
      "Processing Stealing068.npy\n",
      "Processing Stealing069.npy\n",
      "Processing Stealing070.npy\n",
      "Processing Stealing071.npy\n",
      "Processing Stealing073.npy\n",
      "Processing Stealing074.npy\n",
      "Processing Stealing075.npy\n",
      "Processing Stealing078.npy\n",
      "Processing Stealing079.npy\n",
      "Processing Stealing080.npy\n",
      "Processing Stealing081.npy\n",
      "Processing Stealing082.npy\n",
      "Processing Stealing083.npy\n",
      "Processing Stealing087.npy\n",
      "Processing Stealing091.npy\n",
      "Processing Stealing093.npy\n",
      "Processing Stealing094.npy\n",
      "Processing Stealing095.npy\n",
      "Processing Stealing096.npy\n",
      "Processing Stealing097.npy\n",
      "Processing Stealing098.npy\n",
      "Processing Stealing101.npy\n",
      "Processing Stealing102.npy\n",
      "Processing Stealing103.npy\n",
      "Processing Stealing104.npy\n",
      "Processing Stealing105.npy\n",
      "Processing Stealing106.npy\n",
      "Processing Stealing107.npy\n",
      "Processing Stealing108.npy\n",
      "Processing Stealing110.npy\n",
      "Processing Stealing111.npy\n",
      "Processing Stealing112.npy\n",
      "Processing Stealing113.npy\n",
      "Processing Stealing114.npy\n",
      "Processing Vandalism001.npy\n",
      "Processing Vandalism002.npy\n",
      "Processing Vandalism003.npy\n",
      "Processing Vandalism004.npy\n",
      "Processing Vandalism005.npy\n",
      "Processing Vandalism006.npy\n",
      "Processing Vandalism007.npy\n",
      "Processing Vandalism009.npy\n",
      "Processing Vandalism010.npy\n",
      "Processing Vandalism012.npy\n",
      "Processing Vandalism013.npy\n",
      "Processing Vandalism014.npy\n",
      "Video Vandalism014.npy too short\n",
      "Processing Vandalism015.npy\n",
      "Processing Vandalism016.npy\n",
      "Processing Vandalism017.npy\n",
      "Processing Vandalism018.npy\n",
      "Processing Vandalism019.npy\n",
      "Processing Vandalism020.npy\n",
      "Processing Vandalism021.npy\n",
      "Processing Vandalism022.npy\n",
      "Processing Vandalism023.npy\n",
      "Processing Vandalism024.npy\n",
      "Processing Vandalism025.npy\n",
      "Processing Vandalism026.npy\n",
      "Processing Vandalism027.npy\n",
      "Processing Vandalism028.npy\n",
      "Processing Vandalism029.npy\n",
      "Video Vandalism029.npy too short\n",
      "Processing Vandalism030.npy\n",
      "Processing Vandalism031.npy\n",
      "Processing Vandalism032.npy\n",
      "Processing Vandalism033.npy\n",
      "Processing Vandalism034.npy\n",
      "Processing Vandalism035.npy\n",
      "Processing Vandalism036.npy\n",
      "Processing Vandalism037.npy\n",
      "Processing Vandalism038.npy\n",
      "Processing Vandalism039.npy\n",
      "Processing Vandalism040.npy\n",
      "Processing Vandalism041.npy\n",
      "Processing Vandalism042.npy\n",
      "Processing Vandalism043.npy\n",
      "Processing Vandalism044.npy\n",
      "Processing Vandalism045.npy\n",
      "Processing Vandalism046.npy\n",
      "Processing Vandalism047.npy\n",
      "Processing Vandalism048.npy\n",
      "Processing Vandalism049.npy\n",
      "Processing Vandalism050.npy\n"
     ]
    }
   ],
   "source": [
    "raw_abnormal_train_features_c3d_list=os.listdir(raw_abnormal_train_features_c3d)\n",
    "for filename in os.listdir(raw_abnormal_train_features_c3d):\n",
    "    print(\"Processing {}\".format(filename))\n",
    "    raw_file_path = os.path.join(\n",
    "        raw_abnormal_train_features_c3d, filename\n",
    "    )\n",
    "    processed_file_path = os.path.join(\n",
    "        processed_abnormal_train_features_c3d, filename\n",
    "    )\n",
    "    with open(raw_file_path, \"rb\") as f:\n",
    "        feats = np.load(f, allow_pickle=True)\n",
    "\n",
    "    try:\n",
    "        new_feats = transform_into_segments(feats)\n",
    "        with open(processed_file_path, \"wb\") as f:\n",
    "            np.save(f, new_feats, allow_pickle=True)\n",
    "    except RuntimeError:\n",
    "        print(\"Video {} too short\".format(filename))"
   ]
  },
  {
   "cell_type": "markdown",
   "metadata": {
    "id": "P6Ij0gMT2V3B"
   },
   "source": [
    "# AI Train"
   ]
  },
  {
   "cell_type": "markdown",
   "metadata": {
    "id": "5iQX04Gm5K4h"
   },
   "source": [
    "## Parameters for traning model"
   ]
  },
  {
   "cell_type": "code",
   "execution_count": 32,
   "metadata": {
    "id": "_yGf9V9h2-sV"
   },
   "outputs": [],
   "source": [
    "normal_list_c3d = os.listdir(processed_normal_train_features_c3d)\n",
    "normal_list_c3d.sort()\n",
    "abnormal_list_c3d = os.listdir(processed_abnormal_train_features_c3d)\n",
    "abnormal_list_c3d.sort()\n",
    "\n",
    "weights_path_c3d = output_dir + 'weights_c3d.mat'\n",
    "model_path_c3d = output_dir + 'model_c3d.json'"
   ]
  },
  {
   "cell_type": "markdown",
   "metadata": {
    "id": "Dbw458e65bDv"
   },
   "source": [
    "## DNN Model C3d"
   ]
  },
  {
   "cell_type": "code",
   "execution_count": 33,
   "metadata": {
    "id": "zM_Pn3gH4Cu7"
   },
   "outputs": [],
   "source": [
    "def classifier_c3d_model():\n",
    "    \"\"\"Build the classifier\n",
    "    :returns: Classifier model\n",
    "    :rtype: keras.Model\n",
    "    \"\"\"\n",
    "    model = Sequential()\n",
    "    model.add(Dense(512, input_dim=4096, kernel_initializer='glorot_normal',\n",
    "                    kernel_regularizer=l2(0.001), activation='relu'))\n",
    "    model.add(Dropout(0.6))\n",
    "    model.add(Dense(32, kernel_initializer='glorot_normal',\n",
    "                    kernel_regularizer=l2(0.001)))\n",
    "    model.add(Dropout(0.6))\n",
    "    model.add(Dense(1, kernel_initializer='glorot_normal',\n",
    "                    kernel_regularizer=l2(0.001), activation='sigmoid'))\n",
    "    return model"
   ]
  },
  {
   "cell_type": "markdown",
   "metadata": {
    "id": "PDNVo47z5fMk"
   },
   "source": [
    "## Data loading"
   ]
  },
  {
   "cell_type": "code",
   "execution_count": 35,
   "metadata": {
    "id": "29XNys-822do"
   },
   "outputs": [],
   "source": [
    "def load_batch_train(normal_path, normal_list, abnormal_path, abnormal_list):\n",
    "\n",
    "    batchsize=60\n",
    "    n_exp = int(batchsize/2)\n",
    "\n",
    "    num_normal = len(normal_list)\n",
    "    num_abnormal = len(abnormal_list)\n",
    "\n",
    "    abnor_list_idx = np.random.permutation(num_abnormal)\n",
    "    abnor_list = abnor_list_idx[:n_exp]\n",
    "    norm_list_idx = np.random.permutation(num_normal)\n",
    "    norm_list = norm_list_idx[:n_exp]\n",
    "\n",
    "    abnormal_feats = []\n",
    "    for video_idx in abnor_list:\n",
    "        video_path = os.path.join(abnormal_path, abnormal_list[video_idx])\n",
    "        with open(video_path, \"rb\") as f:\n",
    "            feats = np.load(f)\n",
    "        abnormal_feats.append(feats)\n",
    "\n",
    "    normal_feats = []\n",
    "    for video_idx in norm_list:\n",
    "        video_path = os.path.join(normal_path, normal_list[video_idx])\n",
    "        with open(video_path, \"rb\") as f:\n",
    "            feats = np.load(f)\n",
    "        normal_feats.append(feats)\n",
    "\n",
    "\n",
    "    all_feats = np.vstack((*abnormal_feats, *normal_feats))\n",
    "    all_labels = np.zeros(32*batchsize, dtype='uint8')\n",
    "\n",
    "    all_labels[:32*n_exp] = 1\n",
    "\n",
    "    return  all_feats, all_labels"
   ]
  },
  {
   "cell_type": "markdown",
   "metadata": {
    "id": "PfNhzIxo5hXA"
   },
   "source": [
    "## Loss function"
   ]
  },
  {
   "cell_type": "code",
   "execution_count": 36,
   "metadata": {
    "id": "KIHGFHum26-U"
   },
   "outputs": [],
   "source": [
    "def custom_objective(y_true, y_pred):\n",
    "\n",
    "    y_true = K.reshape(y_true, [-1])\n",
    "    y_pred = K.reshape(y_pred, [-1])\n",
    "    n_seg = 32\n",
    "    nvid = 60\n",
    "    n_exp = int(nvid / 2)\n",
    "\n",
    "    max_scores_list = []\n",
    "    z_scores_list = []\n",
    "    temporal_constrains_list = []\n",
    "    sparsity_constrains_list = []\n",
    "\n",
    "    for i in range(0, n_exp, 1):\n",
    "\n",
    "        video_predictions = y_pred[i*n_seg:(i+1)*n_seg]\n",
    "\n",
    "        max_scores_list.append(K.max(video_predictions))\n",
    "        temporal_constrains_list.append(\n",
    "            K.sum(K.pow(video_predictions[1:] - video_predictions[:-1], 2))\n",
    "        )\n",
    "        sparsity_constrains_list.append(K.sum(video_predictions))\n",
    "\n",
    "    for j in range(n_exp, 2*n_exp, 1):\n",
    "\n",
    "        video_predictions = y_pred[j*n_seg:(j+1)*n_seg]\n",
    "        max_scores_list.append(K.max(video_predictions))\n",
    "\n",
    "    max_scores = K.stack(max_scores_list)\n",
    "    temporal_constrains = K.stack(temporal_constrains_list)\n",
    "    sparsity_constrains = K.stack(sparsity_constrains_list)\n",
    "\n",
    "    for ii in range(0, n_exp, 1):\n",
    "        max_z = K.maximum(1 - max_scores[:n_exp] + max_scores[n_exp+ii], 0)\n",
    "        z_scores_list.append(K.sum(max_z))\n",
    "\n",
    "    z_scores = K.stack(z_scores_list)\n",
    "    z = K.mean(z_scores)\n",
    "\n",
    "    return z + \\\n",
    "        0.00008*K.sum(temporal_constrains) + \\\n",
    "        0.00008*K.sum(sparsity_constrains)"
   ]
  },
  {
   "cell_type": "markdown",
   "metadata": {
    "id": "Hv0MOr8F5jPo"
   },
   "source": [
    "## Model Initialization "
   ]
  },
  {
   "cell_type": "code",
   "execution_count": 37,
   "metadata": {
    "id": "nDCVxZmc5D7m"
   },
   "outputs": [],
   "source": [
    "#Create Full connected Model\n",
    "model_c3d = classifier_c3d_model()"
   ]
  },
  {
   "cell_type": "markdown",
   "metadata": {
    "id": "T2s89ou05m3o"
   },
   "source": [
    "## Compile model and define some parameters"
   ]
  },
  {
   "cell_type": "code",
   "execution_count": 38,
   "metadata": {
    "id": "SZQ5hxFy5DzC"
   },
   "outputs": [
    {
     "name": "stderr",
     "output_type": "stream",
     "text": [
      "C:\\ProgramData\\Anaconda3\\envs\\py35\\lib\\site-packages\\keras\\optimizer_v2\\optimizer_v2.py:356: UserWarning: The `lr` argument is deprecated, use `learning_rate` instead.\n",
      "  \"The `lr` argument is deprecated, use `learning_rate` instead.\")\n"
     ]
    }
   ],
   "source": [
    "adagrad = tf.keras.optimizers.Adagrad(lr=0.001, epsilon=1e-08)\n",
    "model_c3d.compile(loss=custom_objective, optimizer=adagrad)"
   ]
  },
  {
   "cell_type": "code",
   "execution_count": 39,
   "metadata": {
    "id": "JPGLFVFq5IsV"
   },
   "outputs": [],
   "source": [
    "if not os.path.exists(output_dir):\n",
    "       os.makedirs(output_dir)\n",
    "\n",
    "loss_graph =[]\n",
    "num_iters = 4000\n",
    "total_iterations = 0\n",
    "batchsize=32\n",
    "time_before = datetime.now()"
   ]
  },
  {
   "cell_type": "markdown",
   "metadata": {
    "id": "bjsZmv-15rS9"
   },
   "source": [
    "## Train Model C3d"
   ]
  },
  {
   "cell_type": "code",
   "execution_count": 40,
   "metadata": {
    "id": "-Cl9ldI3Pd6Z"
   },
   "outputs": [],
   "source": [
    "Loss, epochs = [], []"
   ]
  },
  {
   "cell_type": "code",
   "execution_count": 41,
   "metadata": {
    "id": "l8fLIrPx4rTW",
    "scrolled": true
   },
   "outputs": [
    {
     "name": "stdout",
     "output_type": "stream",
     "text": [
      "Iteration=20 took: 0:00:14.044898, loss: 30.653682708740234\n",
      "Iteration=40 took: 0:00:16.737240, loss: 30.339954376220703\n",
      "Iteration=60 took: 0:00:19.463562, loss: 30.01643180847168\n",
      "Iteration=80 took: 0:00:22.140175, loss: 29.90500831604004\n",
      "Iteration=100 took: 0:00:24.806435, loss: 29.288759231567383\n",
      "Iteration=120 took: 0:00:27.508313, loss: 28.691282272338867\n",
      "Iteration=140 took: 0:00:30.447128, loss: 27.260866165161133\n",
      "Iteration=160 took: 0:00:33.291435, loss: 26.786945343017578\n",
      "Iteration=180 took: 0:00:36.159952, loss: 27.159963607788086\n",
      "Iteration=200 took: 0:00:38.993993, loss: 25.81065559387207\n",
      "Iteration=220 took: 0:00:41.834565, loss: 25.65152359008789\n",
      "Iteration=240 took: 0:00:44.750988, loss: 26.693876266479492\n",
      "Iteration=260 took: 0:00:47.582525, loss: 25.644672393798828\n",
      "Iteration=280 took: 0:00:50.409309, loss: 24.931909561157227\n",
      "Iteration=300 took: 0:00:53.240109, loss: 23.086692810058594\n",
      "Iteration=320 took: 0:00:56.068874, loss: 23.799442291259766\n",
      "Iteration=340 took: 0:00:58.905487, loss: 23.824527740478516\n",
      "Iteration=360 took: 0:01:01.816536, loss: 25.100385665893555\n",
      "Iteration=380 took: 0:01:04.638422, loss: 23.602901458740234\n",
      "Iteration=400 took: 0:01:07.505847, loss: 23.69464111328125\n",
      "Iteration=420 took: 0:01:10.352919, loss: 20.61363983154297\n",
      "Iteration=440 took: 0:01:13.185129, loss: 21.513370513916016\n",
      "Iteration=460 took: 0:01:16.158020, loss: 19.850269317626953\n",
      "Iteration=480 took: 0:01:19.070558, loss: 22.88407325744629\n",
      "Iteration=500 took: 0:01:21.911274, loss: 20.84994888305664\n",
      "Iteration=520 took: 0:01:24.744737, loss: 20.12232208251953\n",
      "Iteration=540 took: 0:01:27.576912, loss: 21.320287704467773\n",
      "Iteration=560 took: 0:01:30.405457, loss: 21.478097915649414\n",
      "Iteration=580 took: 0:01:33.330920, loss: 19.660886764526367\n",
      "Iteration=600 took: 0:01:36.165334, loss: 23.554975509643555\n",
      "Iteration=620 took: 0:01:39.028876, loss: 18.47831153869629\n",
      "Iteration=640 took: 0:01:41.870856, loss: 20.593090057373047\n",
      "Iteration=660 took: 0:01:44.702776, loss: 18.457658767700195\n",
      "Iteration=680 took: 0:01:47.547686, loss: 15.702437400817871\n",
      "Iteration=700 took: 0:01:50.456864, loss: 20.55672836303711\n",
      "Iteration=720 took: 0:01:53.286262, loss: 19.75217056274414\n",
      "Iteration=740 took: 0:01:56.119740, loss: 20.81379508972168\n",
      "Iteration=760 took: 0:01:58.946177, loss: 17.263757705688477\n",
      "Iteration=780 took: 0:02:01.777673, loss: 14.660876274108887\n",
      "Iteration=800 took: 0:02:04.715982, loss: 18.484956741333008\n",
      "Iteration=820 took: 0:02:07.610623, loss: 14.141287803649902\n",
      "Iteration=840 took: 0:02:10.513120, loss: 19.9147891998291\n",
      "Iteration=860 took: 0:02:13.556522, loss: 16.422401428222656\n",
      "Iteration=880 took: 0:02:16.750308, loss: 16.423303604125977\n",
      "Iteration=900 took: 0:02:19.652928, loss: 17.508480072021484\n",
      "Iteration=920 took: 0:02:22.598380, loss: 16.383176803588867\n",
      "Iteration=940 took: 0:02:25.480492, loss: 16.355792999267578\n",
      "Iteration=960 took: 0:02:28.323377, loss: 18.546022415161133\n",
      "Iteration=980 took: 0:02:31.383674, loss: 19.680768966674805\n",
      "Iteration=1000 took: 0:02:34.653578, loss: 16.677717208862305\n",
      "Iteration=1020 took: 0:02:37.698644, loss: 18.783430099487305\n",
      "Iteration=1040 took: 0:02:40.609400, loss: 13.579140663146973\n",
      "Iteration=1060 took: 0:02:43.626909, loss: 17.794919967651367\n",
      "Iteration=1080 took: 0:02:46.571859, loss: 16.329904556274414\n",
      "Iteration=1100 took: 0:02:49.493239, loss: 14.174738883972168\n",
      "Iteration=1120 took: 0:02:52.624763, loss: 12.620376586914062\n",
      "Iteration=1140 took: 0:02:55.573109, loss: 15.481650352478027\n",
      "Iteration=1160 took: 0:02:58.706095, loss: 15.091367721557617\n",
      "Iteration=1180 took: 0:03:01.689616, loss: 15.363158226013184\n",
      "Iteration=1200 took: 0:03:04.976731, loss: 15.322793006896973\n",
      "Iteration=1220 took: 0:03:07.944059, loss: 13.046101570129395\n",
      "Iteration=1240 took: 0:03:10.857961, loss: 17.311023712158203\n",
      "Iteration=1260 took: 0:03:13.789486, loss: 19.68596076965332\n",
      "Iteration=1280 took: 0:03:16.741636, loss: 11.170855522155762\n",
      "Iteration=1300 took: 0:03:19.681213, loss: 14.849146842956543\n",
      "Iteration=1320 took: 0:03:22.635380, loss: 14.211190223693848\n",
      "Iteration=1340 took: 0:03:25.665192, loss: 15.518271446228027\n",
      "Iteration=1360 took: 0:03:28.577779, loss: 14.203741073608398\n",
      "Iteration=1380 took: 0:03:31.521991, loss: 12.243996620178223\n",
      "Iteration=1400 took: 0:03:34.505239, loss: 15.819954872131348\n",
      "Iteration=1420 took: 0:03:37.799837, loss: 15.433831214904785\n",
      "Iteration=1440 took: 0:03:41.170492, loss: 13.964438438415527\n",
      "Iteration=1460 took: 0:03:44.181467, loss: 12.228595733642578\n",
      "Iteration=1480 took: 0:03:47.436123, loss: 13.759621620178223\n",
      "Iteration=1500 took: 0:03:50.474168, loss: 11.8294677734375\n",
      "Iteration=1520 took: 0:03:53.441396, loss: 12.05234432220459\n",
      "Iteration=1540 took: 0:03:56.456138, loss: 12.75326156616211\n",
      "Iteration=1560 took: 0:03:59.451500, loss: 15.927133560180664\n",
      "Iteration=1580 took: 0:04:02.412242, loss: 11.790818214416504\n",
      "Iteration=1600 took: 0:04:05.386841, loss: 14.1270170211792\n",
      "Iteration=1620 took: 0:04:08.309227, loss: 14.424229621887207\n",
      "Iteration=1640 took: 0:04:11.212776, loss: 16.60320472717285\n",
      "Iteration=1660 took: 0:04:14.299089, loss: 13.411375045776367\n",
      "Iteration=1680 took: 0:04:17.164510, loss: 10.271713256835938\n",
      "Iteration=1700 took: 0:04:20.149340, loss: 13.60409927368164\n",
      "Iteration=1720 took: 0:04:23.045776, loss: 8.08773136138916\n",
      "Iteration=1740 took: 0:04:26.604480, loss: 11.367624282836914\n",
      "Iteration=1760 took: 0:04:29.936380, loss: 13.953692436218262\n",
      "Iteration=1780 took: 0:04:32.892404, loss: 14.271180152893066\n",
      "Iteration=1800 took: 0:04:35.830475, loss: 12.635268211364746\n",
      "Iteration=1820 took: 0:04:38.734681, loss: 13.130243301391602\n",
      "Iteration=1840 took: 0:04:41.625884, loss: 15.770812034606934\n",
      "Iteration=1860 took: 0:04:44.701777, loss: 12.76908016204834\n",
      "Iteration=1880 took: 0:04:47.595375, loss: 12.848291397094727\n",
      "Iteration=1900 took: 0:04:50.450240, loss: 13.101627349853516\n",
      "Iteration=1920 took: 0:04:53.344613, loss: 10.85147476196289\n",
      "Iteration=1940 took: 0:04:56.330317, loss: 12.75537395477295\n",
      "Iteration=1960 took: 0:05:00.055157, loss: 10.897455215454102\n",
      "Iteration=1980 took: 0:05:03.359330, loss: 11.891463279724121\n",
      "Iteration=2000 took: 0:05:06.358978, loss: 10.480785369873047\n",
      "Iteration=2020 took: 0:05:09.266495, loss: 10.6556978225708\n",
      "Iteration=2040 took: 0:05:12.125076, loss: 14.457877159118652\n",
      "Iteration=2060 took: 0:05:14.975110, loss: 11.679789543151855\n",
      "Iteration=2080 took: 0:05:17.944060, loss: 10.886675834655762\n",
      "Iteration=2100 took: 0:05:20.876242, loss: 12.397476196289062\n",
      "Iteration=2120 took: 0:05:23.845284, loss: 11.667059898376465\n",
      "Iteration=2140 took: 0:05:26.875905, loss: 13.1234769821167\n",
      "Iteration=2160 took: 0:05:30.084725, loss: 11.983489990234375\n",
      "Iteration=2180 took: 0:05:33.658949, loss: 12.286638259887695\n",
      "Iteration=2200 took: 0:05:36.758050, loss: 9.715730667114258\n",
      "Iteration=2220 took: 0:05:39.741036, loss: 12.473570823669434\n",
      "Iteration=2240 took: 0:05:42.662375, loss: 10.480353355407715\n",
      "Iteration=2260 took: 0:05:45.754601, loss: 11.295490264892578\n",
      "Iteration=2280 took: 0:05:48.840222, loss: 8.9306001663208\n",
      "Iteration=2300 took: 0:05:51.749468, loss: 12.01564884185791\n",
      "Iteration=2320 took: 0:05:54.641802, loss: 9.538095474243164\n",
      "Iteration=2340 took: 0:05:57.639302, loss: 8.96973991394043\n",
      "Iteration=2360 took: 0:06:00.607287, loss: 10.888727188110352\n",
      "Iteration=2380 took: 0:06:03.494267, loss: 10.832931518554688\n",
      "Iteration=2400 took: 0:06:06.438138, loss: 6.240087032318115\n",
      "Iteration=2420 took: 0:06:09.326768, loss: 14.652816772460938\n",
      "Iteration=2440 took: 0:06:12.604979, loss: 10.008753776550293\n",
      "Iteration=2460 took: 0:06:15.991736, loss: 8.095247268676758\n",
      "Iteration=2480 took: 0:06:19.126689, loss: 12.548664093017578\n",
      "Iteration=2500 took: 0:06:22.264572, loss: 8.64801025390625\n",
      "Iteration=2520 took: 0:06:25.203709, loss: 9.789044380187988\n",
      "Iteration=2540 took: 0:06:28.183073, loss: 11.395621299743652\n",
      "Iteration=2560 took: 0:06:31.488879, loss: 14.381906509399414\n",
      "Iteration=2580 took: 0:06:34.705000, loss: 9.787802696228027\n",
      "Iteration=2600 took: 0:06:37.681083, loss: 12.788816452026367\n",
      "Iteration=2620 took: 0:06:40.560167, loss: 14.141620635986328\n",
      "Iteration=2640 took: 0:06:43.416327, loss: 9.92946720123291\n",
      "Iteration=2660 took: 0:06:46.274644, loss: 9.053359985351562\n",
      "Iteration=2680 took: 0:06:49.125034, loss: 8.820690155029297\n",
      "Iteration=2700 took: 0:06:52.038028, loss: 10.537409782409668\n",
      "Iteration=2720 took: 0:06:54.919990, loss: 8.055380821228027\n",
      "Iteration=2740 took: 0:06:57.773362, loss: 11.136630058288574\n",
      "Iteration=2760 took: 0:07:00.622952, loss: 9.06277847290039\n",
      "Iteration=2780 took: 0:07:03.462728, loss: 12.529165267944336\n",
      "Iteration=2800 took: 0:07:06.313351, loss: 7.179069995880127\n",
      "Iteration=2820 took: 0:07:09.239151, loss: 10.664807319641113\n",
      "Iteration=2840 took: 0:07:12.110726, loss: 9.80312728881836\n",
      "Iteration=2860 took: 0:07:14.957980, loss: 9.82232666015625\n",
      "Iteration=2880 took: 0:07:17.798544, loss: 8.490001678466797\n",
      "Iteration=2900 took: 0:07:20.648136, loss: 12.183396339416504\n",
      "Iteration=2920 took: 0:07:23.489769, loss: 13.921551704406738\n",
      "Iteration=2940 took: 0:07:26.435173, loss: 13.781051635742188\n",
      "Iteration=2960 took: 0:07:29.279852, loss: 10.647462844848633\n",
      "Iteration=2980 took: 0:07:32.129723, loss: 14.9702730178833\n",
      "Iteration=3000 took: 0:07:34.986702, loss: 10.529642105102539\n",
      "Iteration=3020 took: 0:07:37.846585, loss: 11.213827133178711\n",
      "Iteration=3040 took: 0:07:40.813647, loss: 14.6079683303833\n",
      "Iteration=3060 took: 0:07:43.669926, loss: 10.272273063659668\n",
      "Iteration=3080 took: 0:07:46.514898, loss: 8.546915054321289\n",
      "Iteration=3100 took: 0:07:49.370630, loss: 13.903853416442871\n",
      "Iteration=3120 took: 0:07:52.217408, loss: 8.33403491973877\n",
      "Iteration=3140 took: 0:07:55.061602, loss: 10.01085376739502\n",
      "Iteration=3160 took: 0:07:57.997328, loss: 9.281960487365723\n",
      "Iteration=3180 took: 0:08:00.844584, loss: 9.442201614379883\n",
      "Iteration=3200 took: 0:08:03.693999, loss: 9.042319297790527\n",
      "Iteration=3220 took: 0:08:06.546953, loss: 5.6675028800964355\n",
      "Iteration=3240 took: 0:08:09.404956, loss: 9.745426177978516\n",
      "Iteration=3260 took: 0:08:12.343503, loss: 7.146854877471924\n",
      "Iteration=3280 took: 0:08:15.203617, loss: 7.025856971740723\n",
      "Iteration=3300 took: 0:08:18.053375, loss: 8.618295669555664\n",
      "Iteration=3320 took: 0:08:20.895123, loss: 12.504255294799805\n",
      "Iteration=3340 took: 0:08:23.739252, loss: 12.029643058776855\n",
      "Iteration=3360 took: 0:08:26.582364, loss: 9.772147178649902\n",
      "Iteration=3380 took: 0:08:29.519398, loss: 7.6751322746276855\n",
      "Iteration=3400 took: 0:08:32.368037, loss: 11.825519561767578\n",
      "Iteration=3420 took: 0:08:35.211806, loss: 9.186235427856445\n",
      "Iteration=3440 took: 0:08:38.058335, loss: 12.442933082580566\n",
      "Iteration=3460 took: 0:08:40.901860, loss: 7.914303779602051\n",
      "Iteration=3480 took: 0:08:43.776354, loss: 9.721439361572266\n",
      "Iteration=3500 took: 0:08:46.687270, loss: 8.839564323425293\n",
      "Iteration=3520 took: 0:08:49.540045, loss: 10.06021785736084\n",
      "Iteration=3540 took: 0:08:52.387770, loss: 11.374133110046387\n",
      "Iteration=3560 took: 0:08:55.229237, loss: 10.515926361083984\n",
      "Iteration=3580 took: 0:08:58.081798, loss: 9.182466506958008\n",
      "Iteration=3600 took: 0:09:01.026216, loss: 11.581141471862793\n",
      "Iteration=3620 took: 0:09:03.882323, loss: 8.84890365600586\n",
      "Iteration=3640 took: 0:09:06.729987, loss: 6.29530668258667\n",
      "Iteration=3660 took: 0:09:09.575762, loss: 6.951878547668457\n",
      "Iteration=3680 took: 0:09:12.428014, loss: 10.97026252746582\n",
      "Iteration=3700 took: 0:09:15.284946, loss: 10.30322551727295\n",
      "Iteration=3720 took: 0:09:18.242123, loss: 5.315132141113281\n",
      "Iteration=3740 took: 0:09:21.086668, loss: 5.757433891296387\n",
      "Iteration=3760 took: 0:09:23.941232, loss: 9.812905311584473\n",
      "Iteration=3780 took: 0:09:26.793544, loss: 6.106546878814697\n",
      "Iteration=3800 took: 0:09:29.646282, loss: 10.663355827331543\n",
      "Iteration=3820 took: 0:09:32.556245, loss: 8.609026908874512\n",
      "Iteration=3840 took: 0:09:35.453472, loss: 9.742830276489258\n",
      "Iteration=3860 took: 0:09:38.391955, loss: 7.188858509063721\n",
      "Iteration=3880 took: 0:09:41.261833, loss: 9.403488159179688\n",
      "Iteration=3900 took: 0:09:44.113191, loss: 8.769770622253418\n",
      "Iteration=3920 took: 0:09:46.965111, loss: 4.5793023109436035\n",
      "Iteration=3940 took: 0:09:49.935927, loss: 7.8896942138671875\n",
      "Iteration=3960 took: 0:09:52.814480, loss: 7.408589839935303\n",
      "Iteration=3980 took: 0:09:55.666493, loss: 7.7889628410339355\n",
      "Iteration=4000 took: 0:09:58.518298, loss: 12.188175201416016\n"
     ]
    }
   ],
   "source": [
    "for it_num in range(num_iters):\n",
    "    inputs, targets = load_batch_train(\n",
    "        processed_normal_train_features_c3d, normal_list_c3d, processed_abnormal_train_features_c3d, abnormal_list_c3d\n",
    "    )\n",
    "    batch_loss = model_c3d.train_on_batch(inputs, targets)\n",
    "    loss_graph = np.hstack((loss_graph, batch_loss))\n",
    "    total_iterations += 1\n",
    "    if total_iterations % 20 == 0:\n",
    "        epochs.append(total_iterations)\n",
    "        Loss.append(batch_loss)\n",
    "        print (\"Iteration={} took: {}, loss: {}\".format(\n",
    "            total_iterations, datetime.now() - time_before, batch_loss)\n",
    "              )"
   ]
  },
  {
   "cell_type": "code",
   "execution_count": 42,
   "metadata": {
    "id": "CK3-dNp9RyWo"
   },
   "outputs": [
    {
     "data": {
      "image/png": "[encoded data removed]",
      "text/plain": [
       "<Figure size 432x288 with 1 Axes>"
      ]
     },
     "metadata": {
      "needs_background": "light"
     },
     "output_type": "display_data"
    }
   ],
   "source": [
    "plt.plot(epochs, Loss)\n",
    "plt.xlabel('epochs') \n",
    "plt.ylabel('loss') \n",
    "  \n",
    "# displaying the title\n",
    "plt.title(\"Loss vs epochs graph\")\n",
    "plt.show()"
   ]
  },
  {
   "cell_type": "markdown",
   "metadata": {
    "id": "LKJT0Uok5uaO"
   },
   "source": [
    "## Saving model"
   ]
  },
  {
   "cell_type": "code",
   "execution_count": 46,
   "metadata": {
    "id": "X7qlEoPC21Ue"
   },
   "outputs": [],
   "source": [
    "def load_model(json_path):\n",
    "    model = model_from_json(open(json_path).read())\n",
    "    return model"
   ]
  },
  {
   "cell_type": "code",
   "execution_count": 47,
   "metadata": {
    "id": "Y1Sh5ECH2XA7"
   },
   "outputs": [],
   "source": [
    "def save_model(model, json_path, weight_path):\n",
    "    json_string = model.to_json()\n",
    "    open(json_path, 'w').write(json_string)\n",
    "    dict = {}\n",
    "    i = 0\n",
    "    for layer in model.layers:\n",
    "        weights = layer.get_weights()\n",
    "        my_list = np.zeros(len(weights), dtype=np.object)\n",
    "        my_list[:] = weights\n",
    "        dict[str(i)] = my_list\n",
    "        i += 1\n",
    "    scipy.io.savemat(weight_path, dict)"
   ]
  },
  {
   "cell_type": "markdown",
   "metadata": {
    "id": "5eiM8xdi98z-"
   },
   "source": [
    "### C3d"
   ]
  },
  {
   "cell_type": "code",
   "execution_count": 49,
   "metadata": {
    "id": "qKQaf0uj98z_"
   },
   "outputs": [
    {
     "name": "stdout",
     "output_type": "stream",
     "text": [
      "Train Successful - Model saved\n"
     ]
    }
   ],
   "source": [
    "print(\"Train Successful - Model saved\")\n",
    "save_model(model_c3d, model_path_c3d, weights_path_c3d)"
   ]
  },
  {
   "cell_type": "markdown",
   "metadata": {
    "id": "PFbc5TLGbV2N"
   },
   "source": [
    "## Load Model"
   ]
  },
  {
   "cell_type": "code",
   "execution_count": 50,
   "metadata": {
    "id": "4z050ds-aLeH"
   },
   "outputs": [],
   "source": [
    "def conv_dict(dict2):\n",
    "    \"\"\"Prepare the dictionary of weights to be loaded by the network\n",
    "    :param dict2: Dictionary to format\n",
    "    :returns: The dictionary properly formatted\n",
    "    :rtype: dict\n",
    "    \"\"\"\n",
    "    dict = {}\n",
    "    for i in range(len(dict2)):\n",
    "        if str(i) in dict2:\n",
    "            if dict2[str(i)].shape == (0, 0):\n",
    "                dict[str(i)] = dict2[str(i)]\n",
    "            else:\n",
    "                weights = dict2[str(i)][0]\n",
    "                weights2 = []\n",
    "                for weight in weights:\n",
    "                    if weight.shape in [(1, x) for x in range(0, 5000)]:\n",
    "                        weights2.append(weight[0])\n",
    "                    else:\n",
    "                        weights2.append(weight)\n",
    "                dict[str(i)] = weights2\n",
    "    return dict"
   ]
  },
  {
   "cell_type": "code",
   "execution_count": 51,
   "metadata": {
    "id": "BUxaWT8gbd4G"
   },
   "outputs": [],
   "source": [
    "def load_weights(model, weights_file):\n",
    "    \"\"\"Loads the pretrained weights into the network architecture\n",
    "    :param model: keras model of the network\n",
    "    :param weights_file: Path to the weights file\n",
    "    :returns: The input model with the weights properly loaded\n",
    "    :rtype: keras.model\n",
    "    \"\"\"\n",
    "    dict2 = sio.loadmat(weights_file)\n",
    "    dict = conv_dict(dict2)\n",
    "    i = 0\n",
    "    for layer in model.layers:\n",
    "        weights = dict[str(i)]\n",
    "        layer.set_weights(weights)\n",
    "        i += 1\n",
    "    return model"
   ]
  },
  {
   "cell_type": "code",
   "execution_count": 52,
   "metadata": {
    "id": "34AksG0nbmxr"
   },
   "outputs": [],
   "source": [
    "def build_classifier_model(model, weights_path):\n",
    "    \"\"\"Build the classifier and load the pretrained weights\n",
    "    :returns:\n",
    "    :rtype:\n",
    "    \"\"\"\n",
    "    model = load_weights(model, weights_path)\n",
    "    return model"
   ]
  },
  {
   "cell_type": "code",
   "execution_count": 53,
   "metadata": {
    "id": "dOpyeeFCcbUC"
   },
   "outputs": [],
   "source": [
    "model_c3d = build_classifier_model(model_c3d, weights_path_c3d)"
   ]
  },
  {
   "cell_type": "markdown",
   "metadata": {
    "id": "b-UOUFkiVkBj"
   },
   "source": [
    "# Visualize"
   ]
  },
  {
   "cell_type": "code",
   "execution_count": 54,
   "metadata": {
    "id": "j0V4xqxLT5Zz"
   },
   "outputs": [],
   "source": [
    "def visualize_clip(clip, convert_bgr=False, save_gif=False, file_path=None):\n",
    "    num_frames = len(clip)\n",
    "    fig, ax = plt.subplots()\n",
    "    fig.set_tight_layout(True)\n",
    "\n",
    "    def update(i):\n",
    "        if convert_bgr:\n",
    "            frame = cv2.cvtColor(clip[i], cv2.COLOR_BGR2RGB)\n",
    "        else:\n",
    "            frame = clip[i]\n",
    "        plt.imshow(frame)\n",
    "        return plt\n",
    "\n",
    "    # FuncAnimation will call the 'update' function for each frame; here\n",
    "    # animating over 10 frames, with an interval of 20ms between frames.\n",
    "    anim = FuncAnimation(fig, update, frames=np.arange(0, num_frames), interval=1)\n",
    "    if save_gif:\n",
    "        anim.save(file_path, dpi=80, writer='pillow')\n",
    "    else:\n",
    "        # plt.show() will just loop the animation forever.\n",
    "        plt.show()"
   ]
  },
  {
   "cell_type": "code",
   "execution_count": 55,
   "metadata": {
    "id": "BBvgoDWWVloE"
   },
   "outputs": [],
   "source": [
    "def visualize_predictions(video_path, predictions, save_path):\n",
    "    frames = get_video_frames(video_path)\n",
    "    assert len(frames) == len(predictions)\n",
    "\n",
    "    fig, ax = plt.subplots(figsize=(5, 5))\n",
    "    fig.set_tight_layout(True)\n",
    "\n",
    "    line = matplotlib.lines.Line2D([], [])\n",
    "\n",
    "    fig_frame = plt.subplot(2, 1, 1)\n",
    "    img = fig_frame.imshow(frames[0])\n",
    "    fig_prediction = plt.subplot(2, 1, 2)\n",
    "    fig_prediction.set_xlim(0, len(frames))\n",
    "    fig_prediction.set_ylim(0, 1.15)\n",
    "    fig_prediction.add_line(line)\n",
    "\n",
    "    def update(i):\n",
    "        frame = frames[i]\n",
    "        x = range(0, i)\n",
    "        y = predictions[0:i]\n",
    "        line.set_data(x, y)\n",
    "        img.set_data(frame)\n",
    "        return plt\n",
    "\n",
    "    # FuncAnimation will call the 'update' function for each frame; here\n",
    "    # animating over 10 frames, with an interval of 20ms between frames.\n",
    "\n",
    "    anim = FuncAnimation(fig, update, frames=np.arange(0, len(frames), 10), interval=1, repeat=False)\n",
    "\n",
    "    if save_path:\n",
    "        anim.save(save_path, dpi=200, writer=PillowWriter(fps=20))\n",
    "    else:\n",
    "        plt.show()"
   ]
  },
  {
   "cell_type": "markdown",
   "metadata": {
    "id": "qLrrYg_j0Nbf"
   },
   "source": [
    "#### C3d"
   ]
  },
  {
   "cell_type": "code",
   "execution_count": 57,
   "metadata": {
    "id": "o-GkQRvnVpMa"
   },
   "outputs": [],
   "source": [
    "def run_demo_c3d(sample_video_path, video_name):\n",
    "    # read video\n",
    "    video_clips, num_frames = get_video_clips(sample_video_path, c3d_frame_count)\n",
    "\n",
    "    print(\"Number of clips in the video : \", len(video_clips))\n",
    "\n",
    "    # build models\n",
    "    feature_extractor = c3d_feature_extractor()\n",
    "    classifier_model = model_c3d\n",
    "\n",
    "    print(\"Models initialized\")\n",
    "\n",
    "    # extract features\n",
    "    rgb_features = []\n",
    "    for i, clip in enumerate(video_clips):\n",
    "        clip = np.array(clip)\n",
    "        if len(clip) < c3d_frame_count:\n",
    "            continue\n",
    "\n",
    "        clip = preprocess_input_c3d(clip)\n",
    "        rgb_feature = feature_extractor.predict(clip)[0]\n",
    "        rgb_features.append(rgb_feature)\n",
    "\n",
    "        print(\"Processed clip : \", i)\n",
    "\n",
    "    rgb_features = np.array(rgb_features)\n",
    "    print(rgb_features.shape)\n",
    "    rgb_feature_bag = interpolate(rgb_features, features_per_bag)\n",
    "    \n",
    "    # classify using the trained classifier model\n",
    "    predictions = classifier_model.predict(rgb_feature_bag)\n",
    "\n",
    "    predictions = np.array(predictions).squeeze()\n",
    "\n",
    "    predictions = extrapolate(predictions, num_frames)\n",
    "    \n",
    "    save_path = os.path.join(output_folder_c3d, video_name + '_10.gif')\n",
    "    # visualize predictions\n",
    "    print('Executed Successfully - '+video_name + '.gif saved')\n",
    "    visualize_predictions(sample_video_path, predictions, save_path)"
   ]
  },
  {
   "cell_type": "code",
   "execution_count": null,
   "metadata": {
    "id": "p_9897hBWR0W"
   },
   "outputs": [],
   "source": []
  },
  {
   "cell_type": "markdown",
   "metadata": {
    "id": "HigKm-7_UbOG"
   },
   "source": [
    "# c3d testing"
   ]
  },
  {
   "cell_type": "code",
   "execution_count": 58,
   "metadata": {
    "id": "Qt68Ama5UaOx"
   },
   "outputs": [
    {
     "name": "stderr",
     "output_type": "stream",
     "text": [
      "C:\\ProgramData\\Anaconda3\\envs\\py35\\lib\\site-packages\\ipykernel_launcher.py:15: VisibleDeprecationWarning: Creating an ndarray from ragged nested sequences (which is a list-or-tuple of lists-or-tuples-or ndarrays with different lengths or shapes) is deprecated. If you meant to do this, you must specify 'dtype=object' when creating the ndarray\n",
      "  from ipykernel import kernelapp as app\n"
     ]
    },
    {
     "name": "stdout",
     "output_type": "stream",
     "text": [
      "Number of clips in the video :  81\n",
      "Models initialized\n",
      "Processed clip :  0\n",
      "Processed clip :  1\n",
      "Processed clip :  2\n",
      "Processed clip :  3\n",
      "Processed clip :  4\n",
      "Processed clip :  5\n",
      "Processed clip :  6\n",
      "Processed clip :  7\n",
      "Processed clip :  8\n",
      "Processed clip :  9\n",
      "Processed clip :  10\n",
      "Processed clip :  11\n",
      "Processed clip :  12\n",
      "Processed clip :  13\n",
      "Processed clip :  14\n",
      "Processed clip :  15\n",
      "Processed clip :  16\n",
      "Processed clip :  17\n",
      "Processed clip :  18\n",
      "Processed clip :  19\n",
      "Processed clip :  20\n",
      "Processed clip :  21\n",
      "Processed clip :  22\n",
      "Processed clip :  23\n",
      "Processed clip :  24\n",
      "Processed clip :  25\n",
      "Processed clip :  26\n",
      "Processed clip :  27\n",
      "Processed clip :  28\n",
      "Processed clip :  29\n",
      "Processed clip :  30\n",
      "Processed clip :  31\n",
      "Processed clip :  32\n",
      "Processed clip :  33\n",
      "Processed clip :  34\n",
      "Processed clip :  35\n",
      "Processed clip :  36\n",
      "Processed clip :  37\n",
      "Processed clip :  38\n",
      "Processed clip :  39\n",
      "Processed clip :  40\n",
      "Processed clip :  41\n",
      "Processed clip :  42\n",
      "Processed clip :  43\n",
      "Processed clip :  44\n",
      "Processed clip :  45\n",
      "Processed clip :  46\n",
      "Processed clip :  47\n",
      "Processed clip :  48\n",
      "Processed clip :  49\n",
      "Processed clip :  50\n",
      "Processed clip :  51\n",
      "Processed clip :  52\n",
      "Processed clip :  53\n",
      "Processed clip :  54\n",
      "Processed clip :  55\n",
      "Processed clip :  56\n",
      "Processed clip :  57\n",
      "Processed clip :  58\n",
      "Processed clip :  59\n",
      "Processed clip :  60\n",
      "Processed clip :  61\n",
      "Processed clip :  62\n",
      "Processed clip :  63\n",
      "Processed clip :  64\n",
      "Processed clip :  65\n",
      "Processed clip :  66\n",
      "Processed clip :  67\n",
      "Processed clip :  68\n",
      "Processed clip :  69\n",
      "Processed clip :  70\n",
      "Processed clip :  71\n",
      "Processed clip :  72\n",
      "Processed clip :  73\n",
      "Processed clip :  74\n",
      "Processed clip :  75\n",
      "Processed clip :  76\n",
      "Processed clip :  77\n",
      "Processed clip :  78\n",
      "Processed clip :  79\n",
      "(80, 4096)\n",
      "Executed Successfully - Explosion020_x264.gif saved\n"
     ]
    },
    {
     "data": {
      "image/png": "[encoded data removed]",
      "text/plain": [
       "<Figure size 360x360 with 2 Axes>"
      ]
     },
     "metadata": {
      "needs_background": "light"
     },
     "output_type": "display_data"
    }
   ],
   "source": [
    "run_demo_c3d('/E:/LY Project/Explosion020_x264.mp4', 'Explosion020_x264')"
   ]
  },
  {
   "cell_type": "code",
   "execution_count": 59,
   "metadata": {},
   "outputs": [
    {
     "name": "stderr",
     "output_type": "stream",
     "text": [
      "C:\\ProgramData\\Anaconda3\\envs\\py35\\lib\\site-packages\\ipykernel_launcher.py:15: VisibleDeprecationWarning: Creating an ndarray from ragged nested sequences (which is a list-or-tuple of lists-or-tuples-or ndarrays with different lengths or shapes) is deprecated. If you meant to do this, you must specify 'dtype=object' when creating the ndarray\n",
      "  from ipykernel import kernelapp as app\n"
     ]
    },
    {
     "name": "stdout",
     "output_type": "stream",
     "text": [
      "Number of clips in the video :  86\n",
      "Models initialized\n",
      "Processed clip :  0\n",
      "Processed clip :  1\n",
      "Processed clip :  2\n",
      "Processed clip :  3\n",
      "Processed clip :  4\n",
      "Processed clip :  5\n",
      "Processed clip :  6\n",
      "Processed clip :  7\n",
      "Processed clip :  8\n",
      "Processed clip :  9\n",
      "Processed clip :  10\n",
      "Processed clip :  11\n",
      "Processed clip :  12\n",
      "Processed clip :  13\n",
      "Processed clip :  14\n",
      "Processed clip :  15\n",
      "Processed clip :  16\n",
      "Processed clip :  17\n",
      "Processed clip :  18\n",
      "Processed clip :  19\n",
      "Processed clip :  20\n",
      "Processed clip :  21\n",
      "Processed clip :  22\n",
      "Processed clip :  23\n",
      "Processed clip :  24\n",
      "Processed clip :  25\n",
      "Processed clip :  26\n",
      "Processed clip :  27\n",
      "Processed clip :  28\n",
      "Processed clip :  29\n",
      "Processed clip :  30\n",
      "Processed clip :  31\n",
      "Processed clip :  32\n",
      "Processed clip :  33\n",
      "Processed clip :  34\n",
      "Processed clip :  35\n",
      "Processed clip :  36\n",
      "Processed clip :  37\n",
      "Processed clip :  38\n",
      "Processed clip :  39\n",
      "Processed clip :  40\n",
      "Processed clip :  41\n",
      "Processed clip :  42\n",
      "Processed clip :  43\n",
      "Processed clip :  44\n",
      "Processed clip :  45\n",
      "Processed clip :  46\n",
      "Processed clip :  47\n",
      "Processed clip :  48\n",
      "Processed clip :  49\n",
      "Processed clip :  50\n",
      "Processed clip :  51\n",
      "Processed clip :  52\n",
      "Processed clip :  53\n",
      "Processed clip :  54\n",
      "Processed clip :  55\n",
      "Processed clip :  56\n",
      "Processed clip :  57\n",
      "Processed clip :  58\n",
      "Processed clip :  59\n",
      "Processed clip :  60\n",
      "Processed clip :  61\n",
      "Processed clip :  62\n",
      "Processed clip :  63\n",
      "Processed clip :  64\n",
      "Processed clip :  65\n",
      "Processed clip :  66\n",
      "Processed clip :  67\n",
      "Processed clip :  68\n",
      "Processed clip :  69\n",
      "Processed clip :  70\n",
      "Processed clip :  71\n",
      "Processed clip :  72\n",
      "Processed clip :  73\n",
      "Processed clip :  74\n",
      "Processed clip :  75\n",
      "Processed clip :  76\n",
      "Processed clip :  77\n",
      "Processed clip :  78\n",
      "Processed clip :  79\n",
      "Processed clip :  80\n",
      "Processed clip :  81\n",
      "Processed clip :  82\n",
      "Processed clip :  83\n",
      "Processed clip :  84\n",
      "(85, 4096)\n",
      "Executed Successfully - RoadAccidents001_x264.gif saved\n"
     ]
    },
    {
     "data": {
      "image/png": "[encoded data removed]",
      "text/plain": [
       "<Figure size 360x360 with 2 Axes>"
      ]
     },
     "metadata": {
      "needs_background": "light"
     },
     "output_type": "display_data"
    }
   ],
   "source": [
    "run_demo_c3d('/E:/LY Project/RoadAccidents001_x264.mp4', 'RoadAccidents001_x264')"
   ]
  },
  {
   "cell_type": "code",
   "execution_count": 60,
   "metadata": {},
   "outputs": [
    {
     "name": "stderr",
     "output_type": "stream",
     "text": [
      "C:\\ProgramData\\Anaconda3\\envs\\py35\\lib\\site-packages\\ipykernel_launcher.py:15: VisibleDeprecationWarning: Creating an ndarray from ragged nested sequences (which is a list-or-tuple of lists-or-tuples-or ndarrays with different lengths or shapes) is deprecated. If you meant to do this, you must specify 'dtype=object' when creating the ndarray\n",
      "  from ipykernel import kernelapp as app\n"
     ]
    },
    {
     "name": "stdout",
     "output_type": "stream",
     "text": [
      "Number of clips in the video :  140\n",
      "Models initialized\n",
      "Processed clip :  0\n",
      "Processed clip :  1\n",
      "Processed clip :  2\n",
      "Processed clip :  3\n",
      "Processed clip :  4\n",
      "Processed clip :  5\n",
      "Processed clip :  6\n",
      "Processed clip :  7\n",
      "Processed clip :  8\n",
      "Processed clip :  9\n",
      "Processed clip :  10\n",
      "Processed clip :  11\n",
      "Processed clip :  12\n",
      "Processed clip :  13\n",
      "Processed clip :  14\n",
      "Processed clip :  15\n",
      "Processed clip :  16\n",
      "Processed clip :  17\n",
      "Processed clip :  18\n",
      "Processed clip :  19\n",
      "Processed clip :  20\n",
      "Processed clip :  21\n",
      "Processed clip :  22\n",
      "Processed clip :  23\n",
      "Processed clip :  24\n",
      "Processed clip :  25\n",
      "Processed clip :  26\n",
      "Processed clip :  27\n",
      "Processed clip :  28\n",
      "Processed clip :  29\n",
      "Processed clip :  30\n",
      "Processed clip :  31\n",
      "Processed clip :  32\n",
      "Processed clip :  33\n",
      "Processed clip :  34\n",
      "Processed clip :  35\n",
      "Processed clip :  36\n",
      "Processed clip :  37\n",
      "Processed clip :  38\n",
      "Processed clip :  39\n",
      "Processed clip :  40\n",
      "Processed clip :  41\n",
      "Processed clip :  42\n",
      "Processed clip :  43\n",
      "Processed clip :  44\n",
      "Processed clip :  45\n",
      "Processed clip :  46\n",
      "Processed clip :  47\n",
      "Processed clip :  48\n",
      "Processed clip :  49\n",
      "Processed clip :  50\n",
      "Processed clip :  51\n",
      "Processed clip :  52\n",
      "Processed clip :  53\n",
      "Processed clip :  54\n",
      "Processed clip :  55\n",
      "Processed clip :  56\n",
      "Processed clip :  57\n",
      "Processed clip :  58\n",
      "Processed clip :  59\n",
      "Processed clip :  60\n",
      "Processed clip :  61\n",
      "Processed clip :  62\n",
      "Processed clip :  63\n",
      "Processed clip :  64\n",
      "Processed clip :  65\n",
      "Processed clip :  66\n",
      "Processed clip :  67\n",
      "Processed clip :  68\n",
      "Processed clip :  69\n",
      "Processed clip :  70\n",
      "Processed clip :  71\n",
      "Processed clip :  72\n",
      "Processed clip :  73\n",
      "Processed clip :  74\n",
      "Processed clip :  75\n",
      "Processed clip :  76\n",
      "Processed clip :  77\n",
      "Processed clip :  78\n",
      "Processed clip :  79\n",
      "Processed clip :  80\n",
      "Processed clip :  81\n",
      "Processed clip :  82\n",
      "Processed clip :  83\n",
      "Processed clip :  84\n",
      "Processed clip :  85\n",
      "Processed clip :  86\n",
      "Processed clip :  87\n",
      "Processed clip :  88\n",
      "Processed clip :  89\n",
      "Processed clip :  90\n",
      "Processed clip :  91\n",
      "Processed clip :  92\n",
      "Processed clip :  93\n",
      "Processed clip :  94\n",
      "Processed clip :  95\n",
      "Processed clip :  96\n",
      "Processed clip :  97\n",
      "Processed clip :  98\n",
      "Processed clip :  99\n",
      "Processed clip :  100\n",
      "Processed clip :  101\n",
      "Processed clip :  102\n",
      "Processed clip :  103\n",
      "Processed clip :  104\n",
      "Processed clip :  105\n",
      "Processed clip :  106\n",
      "Processed clip :  107\n",
      "Processed clip :  108\n",
      "Processed clip :  109\n",
      "Processed clip :  110\n",
      "Processed clip :  111\n",
      "Processed clip :  112\n",
      "Processed clip :  113\n",
      "Processed clip :  114\n",
      "Processed clip :  115\n",
      "Processed clip :  116\n",
      "Processed clip :  117\n",
      "Processed clip :  118\n",
      "Processed clip :  119\n",
      "Processed clip :  120\n",
      "Processed clip :  121\n",
      "Processed clip :  122\n",
      "Processed clip :  123\n",
      "Processed clip :  124\n",
      "Processed clip :  125\n",
      "Processed clip :  126\n",
      "Processed clip :  127\n",
      "Processed clip :  128\n",
      "Processed clip :  129\n",
      "Processed clip :  130\n",
      "Processed clip :  131\n",
      "Processed clip :  132\n",
      "Processed clip :  133\n",
      "Processed clip :  134\n",
      "Processed clip :  135\n",
      "Processed clip :  136\n",
      "Processed clip :  137\n",
      "Processed clip :  138\n",
      "(139, 4096)\n",
      "Executed Successfully - Normal_Videos480_x264.gif saved\n"
     ]
    },
    {
     "data": {
      "image/png": "[encoded data removed]",
      "text/plain": [
       "<Figure size 360x360 with 2 Axes>"
      ]
     },
     "metadata": {
      "needs_background": "light"
     },
     "output_type": "display_data"
    }
   ],
   "source": [
    "run_demo_c3d('/E:/LY Project/Normal_Videos480_x264.mp4', 'Normal_Videos480_x264')"
   ]
  },
  {
   "cell_type": "code",
   "execution_count": 62,
   "metadata": {},
   "outputs": [
    {
     "name": "stderr",
     "output_type": "stream",
     "text": [
      "C:\\ProgramData\\Anaconda3\\envs\\py35\\lib\\site-packages\\ipykernel_launcher.py:15: VisibleDeprecationWarning: Creating an ndarray from ragged nested sequences (which is a list-or-tuple of lists-or-tuples-or ndarrays with different lengths or shapes) is deprecated. If you meant to do this, you must specify 'dtype=object' when creating the ndarray\n",
      "  from ipykernel import kernelapp as app\n"
     ]
    },
    {
     "name": "stdout",
     "output_type": "stream",
     "text": [
      "Number of clips in the video :  344\n",
      "Models initialized\n",
      "Processed clip :  0\n",
      "Processed clip :  1\n",
      "Processed clip :  2\n",
      "Processed clip :  3\n",
      "Processed clip :  4\n",
      "Processed clip :  5\n",
      "Processed clip :  6\n",
      "Processed clip :  7\n",
      "Processed clip :  8\n",
      "Processed clip :  9\n",
      "Processed clip :  10\n",
      "Processed clip :  11\n",
      "Processed clip :  12\n",
      "Processed clip :  13\n",
      "Processed clip :  14\n",
      "Processed clip :  15\n",
      "Processed clip :  16\n",
      "Processed clip :  17\n",
      "Processed clip :  18\n",
      "Processed clip :  19\n",
      "Processed clip :  20\n",
      "Processed clip :  21\n",
      "Processed clip :  22\n",
      "Processed clip :  23\n",
      "Processed clip :  24\n",
      "Processed clip :  25\n",
      "Processed clip :  26\n",
      "Processed clip :  27\n",
      "Processed clip :  28\n",
      "Processed clip :  29\n",
      "Processed clip :  30\n",
      "Processed clip :  31\n",
      "Processed clip :  32\n",
      "Processed clip :  33\n",
      "Processed clip :  34\n",
      "Processed clip :  35\n",
      "Processed clip :  36\n",
      "Processed clip :  37\n",
      "Processed clip :  38\n",
      "Processed clip :  39\n",
      "Processed clip :  40\n",
      "Processed clip :  41\n",
      "Processed clip :  42\n",
      "Processed clip :  43\n",
      "Processed clip :  44\n",
      "Processed clip :  45\n",
      "Processed clip :  46\n",
      "Processed clip :  47\n",
      "Processed clip :  48\n",
      "Processed clip :  49\n",
      "Processed clip :  50\n",
      "Processed clip :  51\n",
      "Processed clip :  52\n",
      "Processed clip :  53\n",
      "Processed clip :  54\n",
      "Processed clip :  55\n",
      "Processed clip :  56\n",
      "Processed clip :  57\n",
      "Processed clip :  58\n",
      "Processed clip :  59\n",
      "Processed clip :  60\n",
      "Processed clip :  61\n",
      "Processed clip :  62\n",
      "Processed clip :  63\n",
      "Processed clip :  64\n",
      "Processed clip :  65\n",
      "Processed clip :  66\n",
      "Processed clip :  67\n",
      "Processed clip :  68\n",
      "Processed clip :  69\n",
      "Processed clip :  70\n",
      "Processed clip :  71\n",
      "Processed clip :  72\n",
      "Processed clip :  73\n",
      "Processed clip :  74\n",
      "Processed clip :  75\n",
      "Processed clip :  76\n",
      "Processed clip :  77\n",
      "Processed clip :  78\n",
      "Processed clip :  79\n",
      "Processed clip :  80\n",
      "Processed clip :  81\n",
      "Processed clip :  82\n",
      "Processed clip :  83\n",
      "Processed clip :  84\n",
      "Processed clip :  85\n",
      "Processed clip :  86\n",
      "Processed clip :  87\n",
      "Processed clip :  88\n",
      "Processed clip :  89\n",
      "Processed clip :  90\n",
      "Processed clip :  91\n",
      "Processed clip :  92\n",
      "Processed clip :  93\n",
      "Processed clip :  94\n",
      "Processed clip :  95\n",
      "Processed clip :  96\n",
      "Processed clip :  97\n",
      "Processed clip :  98\n",
      "Processed clip :  99\n",
      "Processed clip :  100\n",
      "Processed clip :  101\n",
      "Processed clip :  102\n",
      "Processed clip :  103\n",
      "Processed clip :  104\n",
      "Processed clip :  105\n",
      "Processed clip :  106\n",
      "Processed clip :  107\n",
      "Processed clip :  108\n",
      "Processed clip :  109\n",
      "Processed clip :  110\n",
      "Processed clip :  111\n",
      "Processed clip :  112\n",
      "Processed clip :  113\n",
      "Processed clip :  114\n",
      "Processed clip :  115\n",
      "Processed clip :  116\n",
      "Processed clip :  117\n",
      "Processed clip :  118\n",
      "Processed clip :  119\n",
      "Processed clip :  120\n",
      "Processed clip :  121\n",
      "Processed clip :  122\n",
      "Processed clip :  123\n",
      "Processed clip :  124\n",
      "Processed clip :  125\n",
      "Processed clip :  126\n",
      "Processed clip :  127\n",
      "Processed clip :  128\n",
      "Processed clip :  129\n",
      "Processed clip :  130\n",
      "Processed clip :  131\n",
      "Processed clip :  132\n",
      "Processed clip :  133\n",
      "Processed clip :  134\n",
      "Processed clip :  135\n",
      "Processed clip :  136\n",
      "Processed clip :  137\n",
      "Processed clip :  138\n",
      "Processed clip :  139\n",
      "Processed clip :  140\n",
      "Processed clip :  141\n",
      "Processed clip :  142\n",
      "Processed clip :  143\n",
      "Processed clip :  144\n",
      "Processed clip :  145\n",
      "Processed clip :  146\n",
      "Processed clip :  147\n",
      "Processed clip :  148\n",
      "Processed clip :  149\n",
      "Processed clip :  150\n",
      "Processed clip :  151\n",
      "Processed clip :  152\n",
      "Processed clip :  153\n",
      "Processed clip :  154\n",
      "Processed clip :  155\n",
      "Processed clip :  156\n",
      "Processed clip :  157\n",
      "Processed clip :  158\n",
      "Processed clip :  159\n",
      "Processed clip :  160\n",
      "Processed clip :  161\n",
      "Processed clip :  162\n",
      "Processed clip :  163\n",
      "Processed clip :  164\n",
      "Processed clip :  165\n",
      "Processed clip :  166\n",
      "Processed clip :  167\n",
      "Processed clip :  168\n",
      "Processed clip :  169\n",
      "Processed clip :  170\n",
      "Processed clip :  171\n",
      "Processed clip :  172\n",
      "Processed clip :  173\n",
      "Processed clip :  174\n",
      "Processed clip :  175\n",
      "Processed clip :  176\n",
      "Processed clip :  177\n",
      "Processed clip :  178\n",
      "Processed clip :  179\n",
      "Processed clip :  180\n",
      "Processed clip :  181\n",
      "Processed clip :  182\n",
      "Processed clip :  183\n",
      "Processed clip :  184\n",
      "Processed clip :  185\n",
      "Processed clip :  186\n",
      "Processed clip :  187\n",
      "Processed clip :  188\n",
      "Processed clip :  189\n",
      "Processed clip :  190\n",
      "Processed clip :  191\n",
      "Processed clip :  192\n",
      "Processed clip :  193\n",
      "Processed clip :  194\n",
      "Processed clip :  195\n",
      "Processed clip :  196\n",
      "Processed clip :  197\n",
      "Processed clip :  198\n",
      "Processed clip :  199\n",
      "Processed clip :  200\n",
      "Processed clip :  201\n",
      "Processed clip :  202\n",
      "Processed clip :  203\n",
      "Processed clip :  204\n",
      "Processed clip :  205\n",
      "Processed clip :  206\n",
      "Processed clip :  207\n",
      "Processed clip :  208\n",
      "Processed clip :  209\n",
      "Processed clip :  210\n",
      "Processed clip :  211\n",
      "Processed clip :  212\n",
      "Processed clip :  213\n",
      "Processed clip :  214\n",
      "Processed clip :  215\n",
      "Processed clip :  216\n",
      "Processed clip :  217\n",
      "Processed clip :  218\n",
      "Processed clip :  219\n",
      "Processed clip :  220\n",
      "Processed clip :  221\n",
      "Processed clip :  222\n",
      "Processed clip :  223\n",
      "Processed clip :  224\n",
      "Processed clip :  225\n",
      "Processed clip :  226\n",
      "Processed clip :  227\n",
      "Processed clip :  228\n",
      "Processed clip :  229\n",
      "Processed clip :  230\n",
      "Processed clip :  231\n",
      "Processed clip :  232\n",
      "Processed clip :  233\n",
      "Processed clip :  234\n",
      "Processed clip :  235\n",
      "Processed clip :  236\n",
      "Processed clip :  237\n",
      "Processed clip :  238\n",
      "Processed clip :  239\n",
      "Processed clip :  240\n",
      "Processed clip :  241\n",
      "Processed clip :  242\n",
      "Processed clip :  243\n",
      "Processed clip :  244\n",
      "Processed clip :  245\n",
      "Processed clip :  246\n",
      "Processed clip :  247\n",
      "Processed clip :  248\n",
      "Processed clip :  249\n",
      "Processed clip :  250\n",
      "Processed clip :  251\n",
      "Processed clip :  252\n",
      "Processed clip :  253\n",
      "Processed clip :  254\n",
      "Processed clip :  255\n",
      "Processed clip :  256\n",
      "Processed clip :  257\n",
      "Processed clip :  258\n",
      "Processed clip :  259\n",
      "Processed clip :  260\n",
      "Processed clip :  261\n",
      "Processed clip :  262\n",
      "Processed clip :  263\n",
      "Processed clip :  264\n",
      "Processed clip :  265\n",
      "Processed clip :  266\n",
      "Processed clip :  267\n",
      "Processed clip :  268\n",
      "Processed clip :  269\n",
      "Processed clip :  270\n",
      "Processed clip :  271\n",
      "Processed clip :  272\n",
      "Processed clip :  273\n",
      "Processed clip :  274\n",
      "Processed clip :  275\n",
      "Processed clip :  276\n",
      "Processed clip :  277\n",
      "Processed clip :  278\n",
      "Processed clip :  279\n",
      "Processed clip :  280\n",
      "Processed clip :  281\n",
      "Processed clip :  282\n",
      "Processed clip :  283\n",
      "Processed clip :  284\n",
      "Processed clip :  285\n",
      "Processed clip :  286\n",
      "Processed clip :  287\n",
      "Processed clip :  288\n",
      "Processed clip :  289\n",
      "Processed clip :  290\n",
      "Processed clip :  291\n",
      "Processed clip :  292\n",
      "Processed clip :  293\n",
      "Processed clip :  294\n",
      "Processed clip :  295\n",
      "Processed clip :  296\n",
      "Processed clip :  297\n",
      "Processed clip :  298\n",
      "Processed clip :  299\n",
      "Processed clip :  300\n",
      "Processed clip :  301\n",
      "Processed clip :  302\n",
      "Processed clip :  303\n",
      "Processed clip :  304\n",
      "Processed clip :  305\n",
      "Processed clip :  306\n",
      "Processed clip :  307\n",
      "Processed clip :  308\n",
      "Processed clip :  309\n",
      "Processed clip :  310\n",
      "Processed clip :  311\n",
      "Processed clip :  312\n",
      "Processed clip :  313\n",
      "Processed clip :  314\n",
      "Processed clip :  315\n",
      "Processed clip :  316\n",
      "Processed clip :  317\n",
      "Processed clip :  318\n",
      "Processed clip :  319\n",
      "Processed clip :  320\n",
      "Processed clip :  321\n",
      "Processed clip :  322\n",
      "Processed clip :  323\n",
      "Processed clip :  324\n",
      "Processed clip :  325\n",
      "Processed clip :  326\n",
      "Processed clip :  327\n",
      "Processed clip :  328\n",
      "Processed clip :  329\n",
      "Processed clip :  330\n",
      "Processed clip :  331\n",
      "Processed clip :  332\n",
      "Processed clip :  333\n",
      "Processed clip :  334\n",
      "Processed clip :  335\n",
      "Processed clip :  336\n",
      "Processed clip :  337\n",
      "Processed clip :  338\n",
      "Processed clip :  339\n",
      "Processed clip :  340\n",
      "Processed clip :  341\n",
      "Processed clip :  342\n",
      "(343, 4096)\n",
      "Executed Successfully - BTS.gif saved\n"
     ]
    },
    {
     "data": {
      "image/png": "[encoded data removed]",
      "text/plain": [
       "<Figure size 360x360 with 2 Axes>"
      ]
     },
     "metadata": {
      "needs_background": "light"
     },
     "output_type": "display_data"
    }
   ],
   "source": [
    "run_demo_c3d('/E:/LY Project/BTS.mp4','BTS')"
   ]
  },
  {
   "cell_type": "code",
   "execution_count": 63,
   "metadata": {},
   "outputs": [
    {
     "name": "stderr",
     "output_type": "stream",
     "text": [
      "C:\\ProgramData\\Anaconda3\\envs\\py35\\lib\\site-packages\\ipykernel_launcher.py:15: VisibleDeprecationWarning: Creating an ndarray from ragged nested sequences (which is a list-or-tuple of lists-or-tuples-or ndarrays with different lengths or shapes) is deprecated. If you meant to do this, you must specify 'dtype=object' when creating the ndarray\n",
      "  from ipykernel import kernelapp as app\n"
     ]
    },
    {
     "name": "stdout",
     "output_type": "stream",
     "text": [
      "Number of clips in the video :  177\n",
      "Models initialized\n",
      "Processed clip :  0\n",
      "Processed clip :  1\n",
      "Processed clip :  2\n",
      "Processed clip :  3\n",
      "Processed clip :  4\n",
      "Processed clip :  5\n",
      "Processed clip :  6\n",
      "Processed clip :  7\n",
      "Processed clip :  8\n",
      "Processed clip :  9\n",
      "Processed clip :  10\n",
      "Processed clip :  11\n",
      "Processed clip :  12\n",
      "Processed clip :  13\n",
      "Processed clip :  14\n",
      "Processed clip :  15\n",
      "Processed clip :  16\n",
      "Processed clip :  17\n",
      "Processed clip :  18\n",
      "Processed clip :  19\n",
      "Processed clip :  20\n",
      "Processed clip :  21\n",
      "Processed clip :  22\n",
      "Processed clip :  23\n",
      "Processed clip :  24\n",
      "Processed clip :  25\n",
      "Processed clip :  26\n",
      "Processed clip :  27\n",
      "Processed clip :  28\n",
      "Processed clip :  29\n",
      "Processed clip :  30\n",
      "Processed clip :  31\n",
      "Processed clip :  32\n",
      "Processed clip :  33\n",
      "Processed clip :  34\n",
      "Processed clip :  35\n",
      "Processed clip :  36\n",
      "Processed clip :  37\n",
      "Processed clip :  38\n",
      "Processed clip :  39\n",
      "Processed clip :  40\n",
      "Processed clip :  41\n",
      "Processed clip :  42\n",
      "Processed clip :  43\n",
      "Processed clip :  44\n",
      "Processed clip :  45\n",
      "Processed clip :  46\n",
      "Processed clip :  47\n",
      "Processed clip :  48\n",
      "Processed clip :  49\n",
      "Processed clip :  50\n",
      "Processed clip :  51\n",
      "Processed clip :  52\n",
      "Processed clip :  53\n",
      "Processed clip :  54\n",
      "Processed clip :  55\n",
      "Processed clip :  56\n",
      "Processed clip :  57\n",
      "Processed clip :  58\n",
      "Processed clip :  59\n",
      "Processed clip :  60\n",
      "Processed clip :  61\n",
      "Processed clip :  62\n",
      "Processed clip :  63\n",
      "Processed clip :  64\n",
      "Processed clip :  65\n",
      "Processed clip :  66\n",
      "Processed clip :  67\n",
      "Processed clip :  68\n",
      "Processed clip :  69\n",
      "Processed clip :  70\n",
      "Processed clip :  71\n",
      "Processed clip :  72\n",
      "Processed clip :  73\n",
      "Processed clip :  74\n",
      "Processed clip :  75\n",
      "Processed clip :  76\n",
      "Processed clip :  77\n",
      "Processed clip :  78\n",
      "Processed clip :  79\n",
      "Processed clip :  80\n",
      "Processed clip :  81\n",
      "Processed clip :  82\n",
      "Processed clip :  83\n",
      "Processed clip :  84\n",
      "Processed clip :  85\n",
      "Processed clip :  86\n",
      "Processed clip :  87\n",
      "Processed clip :  88\n",
      "Processed clip :  89\n",
      "Processed clip :  90\n",
      "Processed clip :  91\n",
      "Processed clip :  92\n",
      "Processed clip :  93\n",
      "Processed clip :  94\n",
      "Processed clip :  95\n",
      "Processed clip :  96\n",
      "Processed clip :  97\n",
      "Processed clip :  98\n",
      "Processed clip :  99\n",
      "Processed clip :  100\n",
      "Processed clip :  101\n",
      "Processed clip :  102\n",
      "Processed clip :  103\n",
      "Processed clip :  104\n",
      "Processed clip :  105\n",
      "Processed clip :  106\n",
      "Processed clip :  107\n",
      "Processed clip :  108\n",
      "Processed clip :  109\n",
      "Processed clip :  110\n",
      "Processed clip :  111\n",
      "Processed clip :  112\n",
      "Processed clip :  113\n",
      "Processed clip :  114\n",
      "Processed clip :  115\n",
      "Processed clip :  116\n",
      "Processed clip :  117\n",
      "Processed clip :  118\n",
      "Processed clip :  119\n",
      "Processed clip :  120\n",
      "Processed clip :  121\n",
      "Processed clip :  122\n",
      "Processed clip :  123\n",
      "Processed clip :  124\n",
      "Processed clip :  125\n",
      "Processed clip :  126\n",
      "Processed clip :  127\n",
      "Processed clip :  128\n",
      "Processed clip :  129\n",
      "Processed clip :  130\n",
      "Processed clip :  131\n",
      "Processed clip :  132\n",
      "Processed clip :  133\n",
      "Processed clip :  134\n",
      "Processed clip :  135\n",
      "Processed clip :  136\n",
      "Processed clip :  137\n",
      "Processed clip :  138\n",
      "Processed clip :  139\n",
      "Processed clip :  140\n",
      "Processed clip :  141\n",
      "Processed clip :  142\n",
      "Processed clip :  143\n",
      "Processed clip :  144\n",
      "Processed clip :  145\n",
      "Processed clip :  146\n",
      "Processed clip :  147\n",
      "Processed clip :  148\n",
      "Processed clip :  149\n",
      "Processed clip :  150\n",
      "Processed clip :  151\n",
      "Processed clip :  152\n",
      "Processed clip :  153\n",
      "Processed clip :  154\n",
      "Processed clip :  155\n",
      "Processed clip :  156\n",
      "Processed clip :  157\n",
      "Processed clip :  158\n",
      "Processed clip :  159\n",
      "Processed clip :  160\n",
      "Processed clip :  161\n",
      "Processed clip :  162\n",
      "Processed clip :  163\n",
      "Processed clip :  164\n",
      "Processed clip :  165\n",
      "Processed clip :  166\n",
      "Processed clip :  167\n",
      "Processed clip :  168\n",
      "Processed clip :  169\n",
      "Processed clip :  170\n",
      "Processed clip :  171\n",
      "Processed clip :  172\n",
      "Processed clip :  173\n",
      "Processed clip :  174\n",
      "Processed clip :  175\n",
      "(176, 4096)\n",
      "Executed Successfully - Normal_Videos_003_x264.gif saved\n"
     ]
    },
    {
     "data": {
      "image/png": "[encoded data removed]",
      "text/plain": [
       "<Figure size 360x360 with 2 Axes>"
      ]
     },
     "metadata": {
      "needs_background": "light"
     },
     "output_type": "display_data"
    }
   ],
   "source": [
    "run_demo_c3d('E:/LY Project/Testing_Normal_Videos_Anomaly/Testing_Normal_Videos_Anomaly/Normal_Videos_003_x264.mp4','Normal_Videos_003_x264')"
   ]
  },
  {
   "cell_type": "code",
   "execution_count": 64,
   "metadata": {},
   "outputs": [
    {
     "name": "stdout",
     "output_type": "stream",
     "text": [
      "Number of clips in the video :  105\n",
      "Models initialized\n",
      "Processed clip :  0\n",
      "Processed clip :  1\n",
      "Processed clip :  2\n",
      "Processed clip :  3\n",
      "Processed clip :  4\n",
      "Processed clip :  5\n",
      "Processed clip :  6\n",
      "Processed clip :  7\n",
      "Processed clip :  8\n",
      "Processed clip :  9\n",
      "Processed clip :  10\n",
      "Processed clip :  11\n",
      "Processed clip :  12\n",
      "Processed clip :  13\n",
      "Processed clip :  14\n",
      "Processed clip :  15\n",
      "Processed clip :  16\n",
      "Processed clip :  17\n",
      "Processed clip :  18\n",
      "Processed clip :  19\n",
      "Processed clip :  20\n",
      "Processed clip :  21\n",
      "Processed clip :  22\n",
      "Processed clip :  23\n",
      "Processed clip :  24\n",
      "Processed clip :  25\n",
      "Processed clip :  26\n",
      "Processed clip :  27\n",
      "Processed clip :  28\n",
      "Processed clip :  29\n",
      "Processed clip :  30\n",
      "Processed clip :  31\n",
      "Processed clip :  32\n",
      "Processed clip :  33\n",
      "Processed clip :  34\n",
      "Processed clip :  35\n",
      "Processed clip :  36\n",
      "Processed clip :  37\n",
      "Processed clip :  38\n",
      "Processed clip :  39\n",
      "Processed clip :  40\n",
      "Processed clip :  41\n",
      "Processed clip :  42\n",
      "Processed clip :  43\n",
      "Processed clip :  44\n",
      "Processed clip :  45\n",
      "Processed clip :  46\n",
      "Processed clip :  47\n",
      "Processed clip :  48\n",
      "Processed clip :  49\n",
      "Processed clip :  50\n",
      "Processed clip :  51\n",
      "Processed clip :  52\n",
      "Processed clip :  53\n",
      "Processed clip :  54\n",
      "Processed clip :  55\n",
      "Processed clip :  56\n",
      "Processed clip :  57\n",
      "Processed clip :  58\n",
      "Processed clip :  59\n",
      "Processed clip :  60\n",
      "Processed clip :  61\n",
      "Processed clip :  62\n",
      "Processed clip :  63\n",
      "Processed clip :  64\n",
      "Processed clip :  65\n",
      "Processed clip :  66\n",
      "Processed clip :  67\n",
      "Processed clip :  68\n",
      "Processed clip :  69\n",
      "Processed clip :  70\n",
      "Processed clip :  71\n",
      "Processed clip :  72\n",
      "Processed clip :  73\n",
      "Processed clip :  74\n",
      "Processed clip :  75\n",
      "Processed clip :  76\n",
      "Processed clip :  77\n",
      "Processed clip :  78\n",
      "Processed clip :  79\n",
      "Processed clip :  80\n",
      "Processed clip :  81\n",
      "Processed clip :  82\n",
      "Processed clip :  83\n",
      "Processed clip :  84\n",
      "Processed clip :  85\n",
      "Processed clip :  86\n",
      "Processed clip :  87\n",
      "Processed clip :  88\n",
      "Processed clip :  89\n",
      "Processed clip :  90\n",
      "Processed clip :  91\n",
      "Processed clip :  92\n",
      "Processed clip :  93\n",
      "Processed clip :  94\n",
      "Processed clip :  95\n",
      "Processed clip :  96\n",
      "Processed clip :  97\n",
      "Processed clip :  98\n",
      "Processed clip :  99\n",
      "Processed clip :  100\n",
      "Processed clip :  101\n",
      "Processed clip :  102\n",
      "Processed clip :  103\n",
      "Processed clip :  104\n",
      "(105, 4096)\n",
      "Executed Successfully - Normal_Videos_033_x264.gif saved\n"
     ]
    },
    {
     "data": {
      "image/png": "[encoded data removed]",
      "text/plain": [
       "<Figure size 360x360 with 2 Axes>"
      ]
     },
     "metadata": {
      "needs_background": "light"
     },
     "output_type": "display_data"
    }
   ],
   "source": [
    "run_demo_c3d('E:/LY Project/Testing_Normal_Videos_Anomaly/Testing_Normal_Videos_Anomaly/Normal_Videos_033_x264.mp4','Normal_Videos_033_x264')"
   ]
  },
  {
   "cell_type": "code",
   "execution_count": null,
   "metadata": {},
   "outputs": [],
   "source": []
  }
 ],
 "metadata": {
  "accelerator": "GPU",
  "colab": {
   "collapsed_sections": [
    "91Whhz7wYjv4",
    "B0zyF-v_CZCg",
    "LjY1bDQCbxMr",
    "AhPxsMW0yQUu",
    "lPApAj59yUXp",
    "S3jDISdJg5Ln",
    "lKzL2lYHioRU",
    "dvv1W7mPisHb",
    "P6Ij0gMT2V3B",
    "5iQX04Gm5K4h",
    "Dbw458e65bDv",
    "PDNVo47z5fMk",
    "PfNhzIxo5hXA",
    "Hv0MOr8F5jPo",
    "T2s89ou05m3o",
    "bjsZmv-15rS9",
    "LKJT0Uok5uaO",
    "PFbc5TLGbV2N",
    "b-UOUFkiVkBj"
   ],
   "include_colab_link": true,
   "machine_shape": "hm",
   "name": "Anomaly Detection.ipynb",
   "provenance": []
  },
  "kernelspec": {
   "display_name": "Python [conda env:py35]",
   "language": "python",
   "name": "conda-env-py35-py"
  },
  "language_info": {
   "codemirror_mode": {
    "name": "ipython",
    "version": 3
   },
   "file_extension": ".py",
   "mimetype": "text/x-python",
   "name": "python",
   "nbconvert_exporter": "python",
   "pygments_lexer": "ipython3",
   "version": "3.6.10"
  }
 },
 "nbformat": 4,
 "nbformat_minor": 1
}
